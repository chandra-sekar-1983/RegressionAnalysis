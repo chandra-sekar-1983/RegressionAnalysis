{
  "nbformat": 4,
  "nbformat_minor": 0,
  "metadata": {
    "colab": {
      "name": "Linear Regression with gradient descent.ipynb",
      "provenance": [],
      "authorship_tag": "ABX9TyMeOwu9IojqaJ0WGgxIpnhl",
      "include_colab_link": true
    },
    "kernelspec": {
      "name": "python3",
      "display_name": "Python 3"
    }
  },
  "cells": [
    {
      "cell_type": "markdown",
      "metadata": {
        "id": "view-in-github",
        "colab_type": "text"
      },
      "source": [
        "<a href=\"https://colab.research.google.com/github/chandra-sekar-1983/RegressionAnalysis/blob/master/Linear_Regression_with_gradient_descent.ipynb\" target=\"_parent\"><img src=\"https://colab.research.google.com/assets/colab-badge.svg\" alt=\"Open In Colab\"/></a>"
      ]
    },
    {
      "cell_type": "code",
      "metadata": {
        "id": "VObJT9WBECT_",
        "colab_type": "code",
        "colab": {}
      },
      "source": [
        "## linear regression with gradient descent"
      ],
      "execution_count": 0,
      "outputs": []
    },
    {
      "cell_type": "markdown",
      "metadata": {
        "id": "sKzN1IBdEMnV",
        "colab_type": "text"
      },
      "source": [
        "cost function\n",
        "Error(m,b)=1N∑i=1N(actualoutput−predictedoutput)2"
      ]
    },
    {
      "cell_type": "code",
      "metadata": {
        "id": "dJAqNr-sENd5",
        "colab_type": "code",
        "colab": {}
      },
      "source": [
        "def cost_function(m, b, x, y):\n",
        "    totalError = 0\n",
        "    for i in range(0, len(x)):\n",
        "        totalError += (y[i]-(m*x[i]+b))**2\n",
        "    return totalError/float(len(x))"
      ],
      "execution_count": 0,
      "outputs": []
    },
    {
      "cell_type": "code",
      "metadata": {
        "id": "BoqIfnw4HsnQ",
        "colab_type": "code",
        "colab": {
          "base_uri": "https://localhost:8080/",
          "height": 34
        },
        "outputId": "9b1f2556-5e05-4b2e-db0e-c37b83359948"
      },
      "source": [
        "m,b=1,0\n",
        "x=np.array([[3],[4],[5]])\n",
        "y=np.array([[2],[3],[4]])\n",
        "cost_function(m,b,x,y)"
      ],
      "execution_count": 77,
      "outputs": [
        {
          "output_type": "execute_result",
          "data": {
            "text/plain": [
              "array([1.])"
            ]
          },
          "metadata": {
            "tags": []
          },
          "execution_count": 77
        }
      ]
    },
    {
      "cell_type": "markdown",
      "metadata": {
        "id": "fceG4TuTFX0N",
        "colab_type": "text"
      },
      "source": [
        "General Gradient Descent Formula:\n",
        "\n",
        "θj:=θj−α∂∂θjJ(θ0,θ1)"
      ]
    },
    {
      "cell_type": "markdown",
      "metadata": {
        "id": "AH-pAFfbFYeV",
        "colab_type": "text"
      },
      "source": [
        "Gradient Descent Formulars for simple linear regression:\n",
        "\n",
        "∂∂m=2N∑i=1N−xi(yi−(mxi+b))\n",
        "\n",
        "∂∂b=2N∑i=1N−(yi−(mxi+b))"
      ]
    },
    {
      "cell_type": "markdown",
      "metadata": {
        "id": "5ftlDL7DFc23",
        "colab_type": "text"
      },
      "source": [
        "The implementation of gradient descent is a little bit more involved but it’s also easily doable in pure Python."
      ]
    },
    {
      "cell_type": "code",
      "metadata": {
        "id": "yvjAcoKgFA09",
        "colab_type": "code",
        "colab": {}
      },
      "source": [
        "def gradient_descent(b, m, x, y, learning_rate, num_iterations):\n",
        "    N = float(len(x))\n",
        "    for j in range(num_iterations): # repeat for num_iterations\n",
        "        b_gradient = 0\n",
        "        m_gradient = 0\n",
        "        for i in range(0, len(x)):\n",
        "            b_gradient += -(2/N) * (y[i] - ((m * x[i]) + b))\n",
        "            m_gradient += -(2/N) * x[i] * (y[i] - ((m * x[i]) + b))\n",
        "        b -= (learning_rate * b_gradient)\n",
        "        m -= (learning_rate * m_gradient)\n",
        "        if j%50==0:\n",
        "            print('error:', cost_function(m, b, x, y))\n",
        "    return [b, m]"
      ],
      "execution_count": 0,
      "outputs": []
    },
    {
      "cell_type": "markdown",
      "metadata": {
        "id": "otMoVPBeGrqV",
        "colab_type": "text"
      },
      "source": [
        "Running Linear Regression"
      ]
    },
    {
      "cell_type": "code",
      "metadata": {
        "id": "2023C4ZnFVp_",
        "colab_type": "code",
        "colab": {
          "base_uri": "https://localhost:8080/",
          "height": 283
        },
        "outputId": "89d39272-c9ca-4eb0-dfa5-622361d0594d"
      },
      "source": [
        "import numpy as np\n",
        "import matplotlib.pyplot as plt\n",
        "\n",
        "x = np.linspace(0, 100, 50)\n",
        "delta = np.random.uniform(-10, 10, x.size)\n",
        "y = 0.5*x + 3 + delta\n",
        "\n",
        "plt.scatter(x, y)"
      ],
      "execution_count": 79,
      "outputs": [
        {
          "output_type": "execute_result",
          "data": {
            "text/plain": [
              "<matplotlib.collections.PathCollection at 0x7fb084c2ae80>"
            ]
          },
          "metadata": {
            "tags": []
          },
          "execution_count": 79
        },
        {
          "output_type": "display_data",
          "data": {
            "image/png": "[encoded data removed]",
            "text/plain": [
              "<Figure size 432x288 with 1 Axes>"
            ]
          },
          "metadata": {
            "tags": [],
            "needs_background": "light"
          }
        }
      ]
    },
    {
      "cell_type": "code",
      "metadata": {
        "id": "Cda7lYJuGtMe",
        "colab_type": "code",
        "colab": {
          "base_uri": "https://localhost:8080/",
          "height": 119
        },
        "outputId": "4060050d-1ea7-4638-90e6-aa7b7ecf8162"
      },
      "source": [
        "# defining some variables\n",
        "learning_rate = 0.0001\n",
        "initial_b = 0\n",
        "initial_m = 0\n",
        "num_iterations= 100\n",
        "\n",
        "print('Initial error:', cost_function(initial_m, initial_b, x, y))\n",
        "[b, m] = gradient_descent(initial_b, initial_m, x, y, learning_rate, num_iterations)\n",
        "print('b:', b)\n",
        "print('m:', m)\n",
        "print('error:', cost_function(m, b, x, y))"
      ],
      "execution_count": 80,
      "outputs": [
        {
          "output_type": "stream",
          "text": [
            "Initial error: 1010.8485266392895\n",
            "error: 137.24070144390095\n",
            "error: 33.08376450070429\n",
            "b: 0.010441406630605415\n",
            "m: 0.5387015343543697\n",
            "error: 33.08347315996547\n"
          ],
          "name": "stdout"
        }
      ]
    },
    {
      "cell_type": "code",
      "metadata": {
        "id": "wzzkwIc_GzMW",
        "colab_type": "code",
        "colab": {
          "base_uri": "https://localhost:8080/",
          "height": 283
        },
        "outputId": "02712c23-a213-4c65-d62f-95cf82d1104a"
      },
      "source": [
        "predictions = [(m * x[i]) + b for i in range(len(x))]\n",
        "plt.scatter(x, y)\n",
        "plt.plot(x, predictions, color='r')"
      ],
      "execution_count": 81,
      "outputs": [
        {
          "output_type": "execute_result",
          "data": {
            "text/plain": [
              "[<matplotlib.lines.Line2D at 0x7fb0850e4f28>]"
            ]
          },
          "metadata": {
            "tags": []
          },
          "execution_count": 81
        },
        {
          "output_type": "display_data",
          "data": {
            "image/png": "[encoded data removed]",
            "text/plain": [
              "<Figure size 432x288 with 1 Axes>"
            ]
          },
          "metadata": {
            "tags": [],
            "needs_background": "light"
          }
        }
      ]
    },
    {
      "cell_type": "markdown",
      "metadata": {
        "id": "L2CxPwDZS9xR",
        "colab_type": "text"
      },
      "source": [
        "diplayurl-https://gilberttanner.com/blog/linear-regression-explained"
      ]
    },
    {
      "cell_type": "markdown",
      "metadata": {
        "id": "0QYizkmtHRa-",
        "colab_type": "text"
      },
      "source": [
        "Multivariate Linear Regression\n"
      ]
    },
    {
      "cell_type": "code",
      "metadata": {
        "id": "QtTc9BeVHKfM",
        "colab_type": "code",
        "colab": {}
      },
      "source": [
        "def cost_function(x, y, w):\n",
        "    dif = np.dot(x,w)-y # difference between f(x) and y output\n",
        "    cost = np.sum(dif**2) / (2*np.shape(x)[0])\n",
        "    return dif, cost"
      ],
      "execution_count": 0,
      "outputs": []
    },
    {
      "cell_type": "code",
      "metadata": {
        "id": "q5UIU64QHT_E",
        "colab_type": "code",
        "colab": {}
      },
      "source": [
        "def multivariate_gradient_descent(x, y, w, learning_rate, num_iterations):\n",
        "    for i in range(num_iterations):\n",
        "        dif, cost = cost_function(x, y, w)\n",
        "        gradient = np.dot(x.transpose(), dif) / np.shape(x)[0]\n",
        "        w = w - learning_rate * gradient\n",
        "        if i%500==0:\n",
        "            print('error:', cost)\n",
        "    return w"
      ],
      "execution_count": 0,
      "outputs": []
    },
    {
      "cell_type": "markdown",
      "metadata": {
        "id": "TEiMzlt8SRG0",
        "colab_type": "text"
      },
      "source": [
        "Running Multivariate Linear Regression"
      ]
    },
    {
      "cell_type": "code",
      "metadata": {
        "id": "oqan8smASHyz",
        "colab_type": "code",
        "colab": {
          "base_uri": "https://localhost:8080/",
          "height": 204
        },
        "outputId": "90f3400a-c539-4201-cb43-62679534aa95"
      },
      "source": [
        "import pandas as pd\n",
        "from sklearn.preprocessing import LabelEncoder\n",
        "iris = pd.read_csv('https://archive.ics.uci.edu/ml/machine-learning-databases/iris/iris.data', names=['sepal_length', 'sepal_width', 'petal_length', 'petal_width', 'label'])\n",
        "le = LabelEncoder()\n",
        "iris['label'] = le.fit_transform(iris['label'])\n",
        "X = np.array(iris.drop(['petal_width'], axis=1))\n",
        "y = np.array(iris['petal_width'])\n",
        "iris.head()"
      ],
      "execution_count": 84,
      "outputs": [
        {
          "output_type": "execute_result",
          "data": {
            "text/html": [
              "<div>\n",
              "<style scoped>\n",
              "    .dataframe tbody tr th:only-of-type {\n",
              "        vertical-align: middle;\n",
              "    }\n",
              "\n",
              "    .dataframe tbody tr th {\n",
              "        vertical-align: top;\n",
              "    }\n",
              "\n",
              "    .dataframe thead th {\n",
              "        text-align: right;\n",
              "    }\n",
              "</style>\n",
              "<table border=\"1\" class=\"dataframe\">\n",
              "  <thead>\n",
              "    <tr style=\"text-align: right;\">\n",
              "      <th></th>\n",
              "      <th>sepal_length</th>\n",
              "      <th>sepal_width</th>\n",
              "      <th>petal_length</th>\n",
              "      <th>petal_width</th>\n",
              "      <th>label</th>\n",
              "    </tr>\n",
              "  </thead>\n",
              "  <tbody>\n",
              "    <tr>\n",
              "      <th>0</th>\n",
              "      <td>5.1</td>\n",
              "      <td>3.5</td>\n",
              "      <td>1.4</td>\n",
              "      <td>0.2</td>\n",
              "      <td>0</td>\n",
              "    </tr>\n",
              "    <tr>\n",
              "      <th>1</th>\n",
              "      <td>4.9</td>\n",
              "      <td>3.0</td>\n",
              "      <td>1.4</td>\n",
              "      <td>0.2</td>\n",
              "      <td>0</td>\n",
              "    </tr>\n",
              "    <tr>\n",
              "      <th>2</th>\n",
              "      <td>4.7</td>\n",
              "      <td>3.2</td>\n",
              "      <td>1.3</td>\n",
              "      <td>0.2</td>\n",
              "      <td>0</td>\n",
              "    </tr>\n",
              "    <tr>\n",
              "      <th>3</th>\n",
              "      <td>4.6</td>\n",
              "      <td>3.1</td>\n",
              "      <td>1.5</td>\n",
              "      <td>0.2</td>\n",
              "      <td>0</td>\n",
              "    </tr>\n",
              "    <tr>\n",
              "      <th>4</th>\n",
              "      <td>5.0</td>\n",
              "      <td>3.6</td>\n",
              "      <td>1.4</td>\n",
              "      <td>0.2</td>\n",
              "      <td>0</td>\n",
              "    </tr>\n",
              "  </tbody>\n",
              "</table>\n",
              "</div>"
            ],
            "text/plain": [
              "   sepal_length  sepal_width  petal_length  petal_width  label\n",
              "0           5.1          3.5           1.4          0.2      0\n",
              "1           4.9          3.0           1.4          0.2      0\n",
              "2           4.7          3.2           1.3          0.2      0\n",
              "3           4.6          3.1           1.5          0.2      0\n",
              "4           5.0          3.6           1.4          0.2      0"
            ]
          },
          "metadata": {
            "tags": []
          },
          "execution_count": 84
        }
      ]
    },
    {
      "cell_type": "code",
      "metadata": {
        "id": "m1vuEpKQSTT5",
        "colab_type": "code",
        "colab": {
          "base_uri": "https://localhost:8080/",
          "height": 391
        },
        "outputId": "c58b2e61-87d1-4864-a623-577870e174f3"
      },
      "source": [
        "learning_rate = 0.0001\n",
        "num_iterations= 10000\n",
        "_, num_features = np.shape(X)\n",
        "initial_weights = np.zeros(num_features)#initialize all weights as 0\n",
        "weights = multivariate_gradient_descent(X, y, initial_weights, learning_rate, num_iterations)\n",
        "print(weights)\n",
        "dif, cost = cost_function(X, y, weights)\n",
        "print('error: ', cost)"
      ],
      "execution_count": 85,
      "outputs": [
        {
          "output_type": "stream",
          "text": [
            "error: 1.0076666666666665\n",
            "error: 0.1210217434937757\n",
            "error: 0.09967414562782186\n",
            "error: 0.0840548621716564\n",
            "error: 0.0715056719007265\n",
            "error: 0.061418563091493523\n",
            "error: 0.053308668193972716\n",
            "error: 0.04678662713897807\n",
            "error: 0.04153976847267908\n",
            "error: 0.03731700458789664\n",
            "error: 0.033916702040175564\n",
            "error: 0.031176940952850778\n",
            "error: 0.02896769295089422\n",
            "error: 0.027184539745929347\n",
            "error: 0.025743628922400785\n",
            "error: 0.02457762324306148\n",
            "error: 0.023632447788047125\n",
            "error: 0.0228646777844948\n",
            "error: 0.02223944093489925\n",
            "error: 0.02172873290741385\n",
            "[ 0.02954413 -0.0726195   0.29250703  0.16076298]\n",
            "error:  0.021310064610819513\n"
          ],
          "name": "stdout"
        }
      ]
    },
    {
      "cell_type": "markdown",
      "metadata": {
        "id": "GoPq-GrJScnD",
        "colab_type": "text"
      },
      "source": [
        "Regularization"
      ]
    },
    {
      "cell_type": "code",
      "metadata": {
        "id": "t0OdZaUvSWRQ",
        "colab_type": "code",
        "colab": {}
      },
      "source": [
        ""
      ],
      "execution_count": 0,
      "outputs": []
    },
    {
      "cell_type": "markdown",
      "metadata": {
        "id": "n7UL-Q0oVLaM",
        "colab_type": "text"
      },
      "source": [
        ""
      ]
    },
    {
      "cell_type": "markdown",
      "metadata": {
        "id": "GpHoQCjHVLeH",
        "colab_type": "text"
      },
      "source": [
        ""
      ]
    },
    {
      "cell_type": "markdown",
      "metadata": {
        "id": "gfkDUSirVLis",
        "colab_type": "text"
      },
      "source": [
        ""
      ]
    },
    {
      "cell_type": "markdown",
      "metadata": {
        "id": "gly3fTyxVLrW",
        "colab_type": "text"
      },
      "source": [
        "Diffeent practice"
      ]
    },
    {
      "cell_type": "code",
      "metadata": {
        "id": "khYJWsb_VNue",
        "colab_type": "code",
        "colab": {}
      },
      "source": [
        "import numpy as np\n",
        "import pandas as pd\n",
        "import matplotlib.pyplot as plt\n",
        "%matplotlib inline\n",
        "from sklearn.linear_model import LinearRegression"
      ],
      "execution_count": 0,
      "outputs": []
    },
    {
      "cell_type": "code",
      "metadata": {
        "id": "aLklod2GVOFB",
        "colab_type": "code",
        "colab": {}
      },
      "source": [
        "students = {'hours': [29, 9, 10, 38, 16, 26, 50, 10, 30, 33, 43, 2, 39, 15, 44, 29, 41, 15, 24, 50],\n",
        "            'test_results': [65, 7, 8, 76, 23, 56, 100, 3, 74, 48, 73, 0, 62, 37, 74, 40, 90, 42, 58, 100]}\n",
        "\n",
        "student_data = pd.DataFrame(data=students)"
      ],
      "execution_count": 0,
      "outputs": []
    },
    {
      "cell_type": "markdown",
      "metadata": {
        "id": "_3eiHWsNVVij",
        "colab_type": "text"
      },
      "source": [
        "STEP #3 – Defining the feature and target values"
      ]
    },
    {
      "cell_type": "code",
      "metadata": {
        "id": "OtnVAHCsVQbo",
        "colab_type": "code",
        "colab": {}
      },
      "source": [
        "x = student_data.hours\n",
        "y = student_data.test_results"
      ],
      "execution_count": 0,
      "outputs": []
    },
    {
      "cell_type": "code",
      "metadata": {
        "id": "z_cLZ6N3VXAC",
        "colab_type": "code",
        "colab": {
          "base_uri": "https://localhost:8080/",
          "height": 282
        },
        "outputId": "cc97fe68-7e83-4ce6-f1df-899096f2e51e"
      },
      "source": [
        "plt.scatter(x,y)\n"
      ],
      "execution_count": 89,
      "outputs": [
        {
          "output_type": "execute_result",
          "data": {
            "text/plain": [
              "<matplotlib.collections.PathCollection at 0x7fb07998dc18>"
            ]
          },
          "metadata": {
            "tags": []
          },
          "execution_count": 89
        },
        {
          "output_type": "display_data",
          "data": {
            "image/png": "[encoded data removed]",
            "text/plain": [
              "<Figure size 432x288 with 1 Axes>"
            ]
          },
          "metadata": {
            "tags": [],
            "needs_background": "light"
          }
        }
      ]
    },
    {
      "cell_type": "markdown",
      "metadata": {
        "id": "nnIR02TMVceJ",
        "colab_type": "text"
      },
      "source": [
        "STEP #4 – Machine Learning: Linear Regression (line fitting)"
      ]
    },
    {
      "cell_type": "code",
      "metadata": {
        "id": "ItSK_vmgVaEG",
        "colab_type": "code",
        "colab": {}
      },
      "source": [
        "model = np.polyfit(x, y, 1)\n"
      ],
      "execution_count": 0,
      "outputs": []
    },
    {
      "cell_type": "code",
      "metadata": {
        "id": "0cW5Zx-pVeJD",
        "colab_type": "code",
        "colab": {
          "base_uri": "https://localhost:8080/",
          "height": 34
        },
        "outputId": "5d61a465-f4ac-4d6d-9486-1673ec99cefa"
      },
      "source": [
        "print(model)"
      ],
      "execution_count": 91,
      "outputs": [
        {
          "output_type": "execute_result",
          "data": {
            "text/plain": [
              "array([ 2.01467487, -3.9057602 ])"
            ]
          },
          "metadata": {
            "tags": []
          },
          "execution_count": 91
        }
      ]
    },
    {
      "cell_type": "code",
      "metadata": {
        "id": "5sQN3Nc_Vir7",
        "colab_type": "code",
        "colab": {
          "base_uri": "https://localhost:8080/",
          "height": 34
        },
        "outputId": "6349d01e-d41c-4619-9155-5cbc61699cb0"
      },
      "source": [
        "predict = np.poly1d(model)\n",
        "hours_studied = 20\n",
        "predict(hours_studied)"
      ],
      "execution_count": 92,
      "outputs": [
        {
          "output_type": "execute_result",
          "data": {
            "text/plain": [
              "36.38773723347844"
            ]
          },
          "metadata": {
            "tags": []
          },
          "execution_count": 92
        }
      ]
    },
    {
      "cell_type": "code",
      "metadata": {
        "id": "gkl1MFf7Vs8s",
        "colab_type": "code",
        "colab": {
          "base_uri": "https://localhost:8080/",
          "height": 34
        },
        "outputId": "fd181fff-7322-4a92-e0e7-661d844e3272"
      },
      "source": [
        "from sklearn.metrics import r2_score\n",
        "r2_score(y, predict(x))"
      ],
      "execution_count": 93,
      "outputs": [
        {
          "output_type": "execute_result",
          "data": {
            "text/plain": [
              "0.8777480188408424"
            ]
          },
          "metadata": {
            "tags": []
          },
          "execution_count": 93
        }
      ]
    },
    {
      "cell_type": "markdown",
      "metadata": {
        "id": "kRNLTauPVxe-",
        "colab_type": "text"
      },
      "source": [
        "STEP #6 – Plotting the linear regression model"
      ]
    },
    {
      "cell_type": "code",
      "metadata": {
        "id": "0yDl6oBMVvUc",
        "colab_type": "code",
        "colab": {
          "base_uri": "https://localhost:8080/",
          "height": 282
        },
        "outputId": "2b9ab882-3d0f-43a4-995f-c1191b9ff444"
      },
      "source": [
        "x_lin_reg = range(0, 51)\n",
        "y_lin_reg = predict(x_lin_reg)\n",
        "plt.scatter(x, y)\n",
        "plt.plot(x_lin_reg, y_lin_reg, c = 'r')"
      ],
      "execution_count": 94,
      "outputs": [
        {
          "output_type": "execute_result",
          "data": {
            "text/plain": [
              "[<matplotlib.lines.Line2D at 0x7fb079924400>]"
            ]
          },
          "metadata": {
            "tags": []
          },
          "execution_count": 94
        },
        {
          "output_type": "display_data",
          "data": {
            "image/png": "[encoded data removed]",
            "text/plain": [
              "<Figure size 432x288 with 1 Axes>"
            ]
          },
          "metadata": {
            "tags": [],
            "needs_background": "light"
          }
        }
      ]
    },
    {
      "cell_type": "markdown",
      "metadata": {
        "id": "6occstBAatGT",
        "colab_type": "text"
      },
      "source": [
        "effect of outliers"
      ]
    },
    {
      "cell_type": "code",
      "metadata": {
        "id": "5B6LSVEOVz2q",
        "colab_type": "code",
        "colab": {
          "base_uri": "https://localhost:8080/",
          "height": 333
        },
        "outputId": "bf1481af-c9d8-482e-a7d5-6afe6dabcf8c"
      },
      "source": [
        "students = {'hours': [29, 9, 10, 38, 16, 26, 80, 10, 30, 33, 43, 2, 39, 15, 44, 29, 41, 15, 24, 50],\n",
        "            'test_results': [65, 7, 8, 76, 23, 56, 100, 3, 74, 48, 73, 0, 62, 37, 74, 40, 90, 42, 58, 100]}\n",
        "\n",
        "student_data = pd.DataFrame(data=students)\n",
        "x = student_data.hours\n",
        "y = student_data.test_results\n",
        "plt.scatter(x,y)\n",
        "model = np.polyfit(x, y, 1)\n",
        "\n",
        "print(model)\n",
        "predict = np.poly1d(model)\n",
        "hours_studied = 20\n",
        "print(predict(hours_studied))\n",
        "from sklearn.metrics import r2_score\n",
        "print(r2_score(y, predict(x)))\n",
        "x_lin_reg = range(0, 51)\n",
        "y_lin_reg = predict(x_lin_reg)\n",
        "plt.scatter(x, y)\n",
        "plt.plot(x_lin_reg, y_lin_reg, c = 'r')"
      ],
      "execution_count": 124,
      "outputs": [
        {
          "output_type": "stream",
          "text": [
            "[1.53820064 6.96145139]\n",
            "37.725464159153994\n",
            "0.7887901274412\n"
          ],
          "name": "stdout"
        },
        {
          "output_type": "execute_result",
          "data": {
            "text/plain": [
              "[<matplotlib.lines.Line2D at 0x7fb07749d2e8>]"
            ]
          },
          "metadata": {
            "tags": []
          },
          "execution_count": 124
        },
        {
          "output_type": "display_data",
          "data": {
            "image/png": "[encoded data removed]",
            "text/plain": [
              "<Figure size 432x288 with 1 Axes>"
            ]
          },
          "metadata": {
            "tags": [],
            "needs_background": "light"
          }
        }
      ]
    },
    {
      "cell_type": "markdown",
      "metadata": {
        "id": "yevZdhuzbU2y",
        "colab_type": "text"
      },
      "source": [
        "effect of missing value imputation"
      ]
    },
    {
      "cell_type": "code",
      "metadata": {
        "id": "uh79HhLCZ4ZS",
        "colab_type": "code",
        "colab": {
          "base_uri": "https://localhost:8080/",
          "height": 333
        },
        "outputId": "cffa8afd-db03-4690-a9f7-3fcd94c16df1"
      },
      "source": [
        "students = {'hours': [29, 9, 29, 38, 16, 26, 50, 10, 30, 29, 43, 2, 39, 15, 29, 29, 41, 15, 24, 50],\n",
        "            'test_results': [65, 7, 8, 76, 23, 56, 100, 3, 74, 48, 73, 0, 62, 37, 74, 40, 90, 42, 58, 100]}\n",
        "\n",
        "student_data = pd.DataFrame(data=students)\n",
        "x = student_data.hours\n",
        "y = student_data.test_results\n",
        "plt.scatter(x,y)\n",
        "model = np.polyfit(x, y, 1)\n",
        "\n",
        "print(model)\n",
        "predict = np.poly1d(model)\n",
        "hours_studied = 20\n",
        "print(predict(hours_studied))\n",
        "from sklearn.metrics import r2_score\n",
        "print(r2_score(y, predict(x)))\n",
        "x_lin_reg = range(0, 51)\n",
        "y_lin_reg = predict(x_lin_reg)\n",
        "plt.scatter(x, y)\n",
        "plt.plot(x_lin_reg, y_lin_reg, c = 'r')"
      ],
      "execution_count": 125,
      "outputs": [
        {
          "output_type": "stream",
          "text": [
            "[ 2.03287425 -4.40897308]\n",
            "36.24851196941393\n",
            "0.7609888009964871\n"
          ],
          "name": "stdout"
        },
        {
          "output_type": "execute_result",
          "data": {
            "text/plain": [
              "[<matplotlib.lines.Line2D at 0x7fb0775dfba8>]"
            ]
          },
          "metadata": {
            "tags": []
          },
          "execution_count": 125
        },
        {
          "output_type": "display_data",
          "data": {
            "image/png": "[encoded data removed]",
            "text/plain": [
              "<Figure size 432x288 with 1 Axes>"
            ]
          },
          "metadata": {
            "tags": [],
            "needs_background": "light"
          }
        }
      ]
    },
    {
      "cell_type": "code",
      "metadata": {
        "id": "9m3SxkODdX-G",
        "colab_type": "code",
        "colab": {
          "base_uri": "https://localhost:8080/",
          "height": 34
        },
        "outputId": "99350727-841b-4741-d84e-fc2d778e270d"
      },
      "source": [
        "df.shape\n"
      ],
      "execution_count": 129,
      "outputs": [
        {
          "output_type": "execute_result",
          "data": {
            "text/plain": [
              "(20, 2)"
            ]
          },
          "metadata": {
            "tags": []
          },
          "execution_count": 129
        }
      ]
    },
    {
      "cell_type": "code",
      "metadata": {
        "id": "8FcvBPc5duoV",
        "colab_type": "code",
        "colab": {}
      },
      "source": [
        ""
      ],
      "execution_count": 0,
      "outputs": []
    }
  ]
}