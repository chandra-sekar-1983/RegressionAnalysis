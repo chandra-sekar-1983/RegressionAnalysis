{
  "nbformat": 4,
  "nbformat_minor": 0,
  "metadata": {
    "colab": {
      "name": "RegressionUsingStatspackage.ipynb",
      "provenance": [],
      "authorship_tag": "ABX9TyO24Z3jHOh1nKyZHGV4ZFgc",
      "include_colab_link": true
    },
    "kernelspec": {
      "name": "python3",
      "display_name": "Python 3"
    }
  },
  "cells": [
    {
      "cell_type": "markdown",
      "metadata": {
        "id": "view-in-github",
        "colab_type": "text"
      },
      "source": [
        "<a href=\"https://colab.research.google.com/github/chandra-sekar-1983/RegressionAnalysis/blob/master/RegressionUsingStatspackage.ipynb\" target=\"_parent\"><img src=\"https://colab.research.google.com/assets/colab-badge.svg\" alt=\"Open In Colab\"/></a>"
      ]
    },
    {
      "cell_type": "code",
      "metadata": {
        "id": "Qc-TfGXch12w",
        "colab_type": "code",
        "colab": {
          "base_uri": "https://localhost:8080/",
          "height": 71
        },
        "outputId": "be367710-5fff-4b18-ed1e-e9a357e2ffff"
      },
      "source": [
        "import statsmodels.api as sm"
      ],
      "execution_count": 1,
      "outputs": [
        {
          "output_type": "stream",
          "text": [
            "/usr/local/lib/python3.6/dist-packages/statsmodels/tools/_testing.py:19: FutureWarning: pandas.util.testing is deprecated. Use the functions in the public API at pandas.testing instead.\n",
            "  import pandas.util.testing as tm\n"
          ],
          "name": "stderr"
        }
      ]
    },
    {
      "cell_type": "code",
      "metadata": {
        "id": "HvhDZ1CniELA",
        "colab_type": "code",
        "colab": {}
      },
      "source": [
        "from sklearn import datasets ## imports datasets from scikit-learn\n",
        "data = datasets.load_boston() ## loads Boston dataset from datasets library "
      ],
      "execution_count": 0,
      "outputs": []
    },
    {
      "cell_type": "code",
      "metadata": {
        "id": "yijbuqSkiKYs",
        "colab_type": "code",
        "colab": {
          "base_uri": "https://localhost:8080/",
          "height": 1000
        },
        "outputId": "beaec552-3196-4b8f-f1fc-895edbf2c9e8"
      },
      "source": [
        "data"
      ],
      "execution_count": 3,
      "outputs": [
        {
          "output_type": "execute_result",
          "data": {
            "text/plain": [
              "{'DESCR': \".. _boston_dataset:\\n\\nBoston house prices dataset\\n---------------------------\\n\\n**Data Set Characteristics:**  \\n\\n    :Number of Instances: 506 \\n\\n    :Number of Attributes: 13 numeric/categorical predictive. Median Value (attribute 14) is usually the target.\\n\\n    :Attribute Information (in order):\\n        - CRIM     per capita crime rate by town\\n        - ZN       proportion of residential land zoned for lots over 25,000 sq.ft.\\n        - INDUS    proportion of non-retail business acres per town\\n        - CHAS     Charles River dummy variable (= 1 if tract bounds river; 0 otherwise)\\n        - NOX      nitric oxides concentration (parts per 10 million)\\n        - RM       average number of rooms per dwelling\\n        - AGE      proportion of owner-occupied units built prior to 1940\\n        - DIS      weighted distances to five Boston employment centres\\n        - RAD      index of accessibility to radial highways\\n        - TAX      full-value property-tax rate per $10,000\\n        - PTRATIO  pupil-teacher ratio by town\\n        - B        1000(Bk - 0.63)^2 where Bk is the proportion of blacks by town\\n        - LSTAT    % lower status of the population\\n        - MEDV     Median value of owner-occupied homes in $1000's\\n\\n    :Missing Attribute Values: None\\n\\n    :Creator: Harrison, D. and Rubinfeld, D.L.\\n\\nThis is a copy of UCI ML housing dataset.\\nhttps://archive.ics.uci.edu/ml/machine-learning-databases/housing/\\n\\n\\nThis dataset was taken from the StatLib library which is maintained at Carnegie Mellon University.\\n\\nThe Boston house-price data of Harrison, D. and Rubinfeld, D.L. 'Hedonic\\nprices and the demand for clean air', J. Environ. Economics & Management,\\nvol.5, 81-102, 1978.   Used in Belsley, Kuh & Welsch, 'Regression diagnostics\\n...', Wiley, 1980.   N.B. Various transformations are used in the table on\\npages 244-261 of the latter.\\n\\nThe Boston house-price data has been used in many machine learning papers that address regression\\nproblems.   \\n     \\n.. topic:: References\\n\\n   - Belsley, Kuh & Welsch, 'Regression diagnostics: Identifying Influential Data and Sources of Collinearity', Wiley, 1980. 244-261.\\n   - Quinlan,R. (1993). Combining Instance-Based and Model-Based Learning. In Proceedings on the Tenth International Conference of Machine Learning, 236-243, University of Massachusetts, Amherst. Morgan Kaufmann.\\n\",\n",
              " 'data': array([[6.3200e-03, 1.8000e+01, 2.3100e+00, ..., 1.5300e+01, 3.9690e+02,\n",
              "         4.9800e+00],\n",
              "        [2.7310e-02, 0.0000e+00, 7.0700e+00, ..., 1.7800e+01, 3.9690e+02,\n",
              "         9.1400e+00],\n",
              "        [2.7290e-02, 0.0000e+00, 7.0700e+00, ..., 1.7800e+01, 3.9283e+02,\n",
              "         4.0300e+00],\n",
              "        ...,\n",
              "        [6.0760e-02, 0.0000e+00, 1.1930e+01, ..., 2.1000e+01, 3.9690e+02,\n",
              "         5.6400e+00],\n",
              "        [1.0959e-01, 0.0000e+00, 1.1930e+01, ..., 2.1000e+01, 3.9345e+02,\n",
              "         6.4800e+00],\n",
              "        [4.7410e-02, 0.0000e+00, 1.1930e+01, ..., 2.1000e+01, 3.9690e+02,\n",
              "         7.8800e+00]]),\n",
              " 'feature_names': array(['CRIM', 'ZN', 'INDUS', 'CHAS', 'NOX', 'RM', 'AGE', 'DIS', 'RAD',\n",
              "        'TAX', 'PTRATIO', 'B', 'LSTAT'], dtype='<U7'),\n",
              " 'filename': '/usr/local/lib/python3.6/dist-packages/sklearn/datasets/data/boston_house_prices.csv',\n",
              " 'target': array([24. , 21.6, 34.7, 33.4, 36.2, 28.7, 22.9, 27.1, 16.5, 18.9, 15. ,\n",
              "        18.9, 21.7, 20.4, 18.2, 19.9, 23.1, 17.5, 20.2, 18.2, 13.6, 19.6,\n",
              "        15.2, 14.5, 15.6, 13.9, 16.6, 14.8, 18.4, 21. , 12.7, 14.5, 13.2,\n",
              "        13.1, 13.5, 18.9, 20. , 21. , 24.7, 30.8, 34.9, 26.6, 25.3, 24.7,\n",
              "        21.2, 19.3, 20. , 16.6, 14.4, 19.4, 19.7, 20.5, 25. , 23.4, 18.9,\n",
              "        35.4, 24.7, 31.6, 23.3, 19.6, 18.7, 16. , 22.2, 25. , 33. , 23.5,\n",
              "        19.4, 22. , 17.4, 20.9, 24.2, 21.7, 22.8, 23.4, 24.1, 21.4, 20. ,\n",
              "        20.8, 21.2, 20.3, 28. , 23.9, 24.8, 22.9, 23.9, 26.6, 22.5, 22.2,\n",
              "        23.6, 28.7, 22.6, 22. , 22.9, 25. , 20.6, 28.4, 21.4, 38.7, 43.8,\n",
              "        33.2, 27.5, 26.5, 18.6, 19.3, 20.1, 19.5, 19.5, 20.4, 19.8, 19.4,\n",
              "        21.7, 22.8, 18.8, 18.7, 18.5, 18.3, 21.2, 19.2, 20.4, 19.3, 22. ,\n",
              "        20.3, 20.5, 17.3, 18.8, 21.4, 15.7, 16.2, 18. , 14.3, 19.2, 19.6,\n",
              "        23. , 18.4, 15.6, 18.1, 17.4, 17.1, 13.3, 17.8, 14. , 14.4, 13.4,\n",
              "        15.6, 11.8, 13.8, 15.6, 14.6, 17.8, 15.4, 21.5, 19.6, 15.3, 19.4,\n",
              "        17. , 15.6, 13.1, 41.3, 24.3, 23.3, 27. , 50. , 50. , 50. , 22.7,\n",
              "        25. , 50. , 23.8, 23.8, 22.3, 17.4, 19.1, 23.1, 23.6, 22.6, 29.4,\n",
              "        23.2, 24.6, 29.9, 37.2, 39.8, 36.2, 37.9, 32.5, 26.4, 29.6, 50. ,\n",
              "        32. , 29.8, 34.9, 37. , 30.5, 36.4, 31.1, 29.1, 50. , 33.3, 30.3,\n",
              "        34.6, 34.9, 32.9, 24.1, 42.3, 48.5, 50. , 22.6, 24.4, 22.5, 24.4,\n",
              "        20. , 21.7, 19.3, 22.4, 28.1, 23.7, 25. , 23.3, 28.7, 21.5, 23. ,\n",
              "        26.7, 21.7, 27.5, 30.1, 44.8, 50. , 37.6, 31.6, 46.7, 31.5, 24.3,\n",
              "        31.7, 41.7, 48.3, 29. , 24. , 25.1, 31.5, 23.7, 23.3, 22. , 20.1,\n",
              "        22.2, 23.7, 17.6, 18.5, 24.3, 20.5, 24.5, 26.2, 24.4, 24.8, 29.6,\n",
              "        42.8, 21.9, 20.9, 44. , 50. , 36. , 30.1, 33.8, 43.1, 48.8, 31. ,\n",
              "        36.5, 22.8, 30.7, 50. , 43.5, 20.7, 21.1, 25.2, 24.4, 35.2, 32.4,\n",
              "        32. , 33.2, 33.1, 29.1, 35.1, 45.4, 35.4, 46. , 50. , 32.2, 22. ,\n",
              "        20.1, 23.2, 22.3, 24.8, 28.5, 37.3, 27.9, 23.9, 21.7, 28.6, 27.1,\n",
              "        20.3, 22.5, 29. , 24.8, 22. , 26.4, 33.1, 36.1, 28.4, 33.4, 28.2,\n",
              "        22.8, 20.3, 16.1, 22.1, 19.4, 21.6, 23.8, 16.2, 17.8, 19.8, 23.1,\n",
              "        21. , 23.8, 23.1, 20.4, 18.5, 25. , 24.6, 23. , 22.2, 19.3, 22.6,\n",
              "        19.8, 17.1, 19.4, 22.2, 20.7, 21.1, 19.5, 18.5, 20.6, 19. , 18.7,\n",
              "        32.7, 16.5, 23.9, 31.2, 17.5, 17.2, 23.1, 24.5, 26.6, 22.9, 24.1,\n",
              "        18.6, 30.1, 18.2, 20.6, 17.8, 21.7, 22.7, 22.6, 25. , 19.9, 20.8,\n",
              "        16.8, 21.9, 27.5, 21.9, 23.1, 50. , 50. , 50. , 50. , 50. , 13.8,\n",
              "        13.8, 15. , 13.9, 13.3, 13.1, 10.2, 10.4, 10.9, 11.3, 12.3,  8.8,\n",
              "         7.2, 10.5,  7.4, 10.2, 11.5, 15.1, 23.2,  9.7, 13.8, 12.7, 13.1,\n",
              "        12.5,  8.5,  5. ,  6.3,  5.6,  7.2, 12.1,  8.3,  8.5,  5. , 11.9,\n",
              "        27.9, 17.2, 27.5, 15. , 17.2, 17.9, 16.3,  7. ,  7.2,  7.5, 10.4,\n",
              "         8.8,  8.4, 16.7, 14.2, 20.8, 13.4, 11.7,  8.3, 10.2, 10.9, 11. ,\n",
              "         9.5, 14.5, 14.1, 16.1, 14.3, 11.7, 13.4,  9.6,  8.7,  8.4, 12.8,\n",
              "        10.5, 17.1, 18.4, 15.4, 10.8, 11.8, 14.9, 12.6, 14.1, 13. , 13.4,\n",
              "        15.2, 16.1, 17.8, 14.9, 14.1, 12.7, 13.5, 14.9, 20. , 16.4, 17.7,\n",
              "        19.5, 20.2, 21.4, 19.9, 19. , 19.1, 19.1, 20.1, 19.9, 19.6, 23.2,\n",
              "        29.8, 13.8, 13.3, 16.7, 12. , 14.6, 21.4, 23. , 23.7, 25. , 21.8,\n",
              "        20.6, 21.2, 19.1, 20.6, 15.2,  7. ,  8.1, 13.6, 20.1, 21.8, 24.5,\n",
              "        23.1, 19.7, 18.3, 21.2, 17.5, 16.8, 22.4, 20.6, 23.9, 22. , 11.9])}"
            ]
          },
          "metadata": {
            "tags": []
          },
          "execution_count": 3
        }
      ]
    },
    {
      "cell_type": "code",
      "metadata": {
        "id": "M1P3E3tniO4Q",
        "colab_type": "code",
        "colab": {}
      },
      "source": [
        "import numpy as np\n",
        "import pandas as pd\n",
        "# define the data/predictors as the pre-set feature names  \n",
        "df = pd.DataFrame(data.data, columns=data.feature_names)\n",
        "\n",
        "# Put the target (housing value -- MEDV) in another DataFrame\n",
        "target = pd.DataFrame(data.target, columns=[\"MEDV\"])"
      ],
      "execution_count": 0,
      "outputs": []
    },
    {
      "cell_type": "code",
      "metadata": {
        "id": "nYVYSFp8iTFL",
        "colab_type": "code",
        "colab": {
          "base_uri": "https://localhost:8080/",
          "height": 423
        },
        "outputId": "79b5cc57-002a-4a97-d1dd-1ce83879a60b"
      },
      "source": [
        "## Without a constant\n",
        "\n",
        "import statsmodels.api as sm\n",
        "\n",
        "X = df[\"RM\"]\n",
        "y = target[\"MEDV\"]\n",
        "\n",
        "# Note the difference in argument order\n",
        "model = sm.OLS(y, X).fit()\n",
        "predictions = model.predict(X) # make the predictions by the model\n",
        "\n",
        "# Print out the statistics\n",
        "model.summary()"
      ],
      "execution_count": 5,
      "outputs": [
        {
          "output_type": "execute_result",
          "data": {
            "text/html": [
              "<table class=\"simpletable\">\n",
              "<caption>OLS Regression Results</caption>\n",
              "<tr>\n",
              "  <th>Dep. Variable:</th>          <td>MEDV</td>       <th>  R-squared (uncentered):</th>      <td>   0.901</td> \n",
              "</tr>\n",
              "<tr>\n",
              "  <th>Model:</th>                   <td>OLS</td>       <th>  Adj. R-squared (uncentered):</th> <td>   0.901</td> \n",
              "</tr>\n",
              "<tr>\n",
              "  <th>Method:</th>             <td>Least Squares</td>  <th>  F-statistic:       </th>          <td>   4615.</td> \n",
              "</tr>\n",
              "<tr>\n",
              "  <th>Date:</th>             <td>Mon, 25 May 2020</td> <th>  Prob (F-statistic):</th>          <td>3.74e-256</td>\n",
              "</tr>\n",
              "<tr>\n",
              "  <th>Time:</th>                 <td>01:54:09</td>     <th>  Log-Likelihood:    </th>          <td> -1747.1</td> \n",
              "</tr>\n",
              "<tr>\n",
              "  <th>No. Observations:</th>      <td>   506</td>      <th>  AIC:               </th>          <td>   3496.</td> \n",
              "</tr>\n",
              "<tr>\n",
              "  <th>Df Residuals:</th>          <td>   505</td>      <th>  BIC:               </th>          <td>   3500.</td> \n",
              "</tr>\n",
              "<tr>\n",
              "  <th>Df Model:</th>              <td>     1</td>      <th>                     </th>              <td> </td>    \n",
              "</tr>\n",
              "<tr>\n",
              "  <th>Covariance Type:</th>      <td>nonrobust</td>    <th>                     </th>              <td> </td>    \n",
              "</tr>\n",
              "</table>\n",
              "<table class=\"simpletable\">\n",
              "<tr>\n",
              "   <td></td>     <th>coef</th>     <th>std err</th>      <th>t</th>      <th>P>|t|</th>  <th>[0.025</th>    <th>0.975]</th>  \n",
              "</tr>\n",
              "<tr>\n",
              "  <th>RM</th> <td>    3.6534</td> <td>    0.054</td> <td>   67.930</td> <td> 0.000</td> <td>    3.548</td> <td>    3.759</td>\n",
              "</tr>\n",
              "</table>\n",
              "<table class=\"simpletable\">\n",
              "<tr>\n",
              "  <th>Omnibus:</th>       <td>83.295</td> <th>  Durbin-Watson:     </th> <td>   0.493</td>\n",
              "</tr>\n",
              "<tr>\n",
              "  <th>Prob(Omnibus):</th> <td> 0.000</td> <th>  Jarque-Bera (JB):  </th> <td> 152.507</td>\n",
              "</tr>\n",
              "<tr>\n",
              "  <th>Skew:</th>          <td> 0.955</td> <th>  Prob(JB):          </th> <td>7.65e-34</td>\n",
              "</tr>\n",
              "<tr>\n",
              "  <th>Kurtosis:</th>      <td> 4.894</td> <th>  Cond. No.          </th> <td>    1.00</td>\n",
              "</tr>\n",
              "</table><br/><br/>Warnings:<br/>[1] Standard Errors assume that the covariance matrix of the errors is correctly specified."
            ],
            "text/plain": [
              "<class 'statsmodels.iolib.summary.Summary'>\n",
              "\"\"\"\n",
              "                                 OLS Regression Results                                \n",
              "=======================================================================================\n",
              "Dep. Variable:                   MEDV   R-squared (uncentered):                   0.901\n",
              "Model:                            OLS   Adj. R-squared (uncentered):              0.901\n",
              "Method:                 Least Squares   F-statistic:                              4615.\n",
              "Date:                Mon, 25 May 2020   Prob (F-statistic):                   3.74e-256\n",
              "Time:                        01:54:09   Log-Likelihood:                         -1747.1\n",
              "No. Observations:                 506   AIC:                                      3496.\n",
              "Df Residuals:                     505   BIC:                                      3500.\n",
              "Df Model:                           1                                                  \n",
              "Covariance Type:            nonrobust                                                  \n",
              "==============================================================================\n",
              "                 coef    std err          t      P>|t|      [0.025      0.975]\n",
              "------------------------------------------------------------------------------\n",
              "RM             3.6534      0.054     67.930      0.000       3.548       3.759\n",
              "==============================================================================\n",
              "Omnibus:                       83.295   Durbin-Watson:                   0.493\n",
              "Prob(Omnibus):                  0.000   Jarque-Bera (JB):              152.507\n",
              "Skew:                           0.955   Prob(JB):                     7.65e-34\n",
              "Kurtosis:                       4.894   Cond. No.                         1.00\n",
              "==============================================================================\n",
              "\n",
              "Warnings:\n",
              "[1] Standard Errors assume that the covariance matrix of the errors is correctly specified.\n",
              "\"\"\""
            ]
          },
          "metadata": {
            "tags": []
          },
          "execution_count": 5
        }
      ]
    },
    {
      "cell_type": "code",
      "metadata": {
        "id": "Z-lNdwgCiVQu",
        "colab_type": "code",
        "colab": {
          "base_uri": "https://localhost:8080/",
          "height": 444
        },
        "outputId": "55f7ee70-fdaf-403f-971b-49fc6327b6b4"
      },
      "source": [
        "import statsmodels.api as sm # import statsmodels \n",
        "\n",
        "X = df[\"RM\"] ## X usually means our input variables (or independent variables)\n",
        "y = target[\"MEDV\"] ## Y usually means our output/dependent variable\n",
        "X = sm.add_constant(X) ## let's add an intercept (beta_0) to our model\n",
        "\n",
        "# Note the difference in argument order\n",
        "model = sm.OLS(y, X).fit() ## sm.OLS(output, input)\n",
        "predictions = model.predict(X)\n",
        "\n",
        "# Print out the statistics\n",
        "model.summary()"
      ],
      "execution_count": 6,
      "outputs": [
        {
          "output_type": "execute_result",
          "data": {
            "text/html": [
              "<table class=\"simpletable\">\n",
              "<caption>OLS Regression Results</caption>\n",
              "<tr>\n",
              "  <th>Dep. Variable:</th>          <td>MEDV</td>       <th>  R-squared:         </th> <td>   0.484</td>\n",
              "</tr>\n",
              "<tr>\n",
              "  <th>Model:</th>                   <td>OLS</td>       <th>  Adj. R-squared:    </th> <td>   0.483</td>\n",
              "</tr>\n",
              "<tr>\n",
              "  <th>Method:</th>             <td>Least Squares</td>  <th>  F-statistic:       </th> <td>   471.8</td>\n",
              "</tr>\n",
              "<tr>\n",
              "  <th>Date:</th>             <td>Mon, 25 May 2020</td> <th>  Prob (F-statistic):</th> <td>2.49e-74</td>\n",
              "</tr>\n",
              "<tr>\n",
              "  <th>Time:</th>                 <td>01:58:59</td>     <th>  Log-Likelihood:    </th> <td> -1673.1</td>\n",
              "</tr>\n",
              "<tr>\n",
              "  <th>No. Observations:</th>      <td>   506</td>      <th>  AIC:               </th> <td>   3350.</td>\n",
              "</tr>\n",
              "<tr>\n",
              "  <th>Df Residuals:</th>          <td>   504</td>      <th>  BIC:               </th> <td>   3359.</td>\n",
              "</tr>\n",
              "<tr>\n",
              "  <th>Df Model:</th>              <td>     1</td>      <th>                     </th>     <td> </td>   \n",
              "</tr>\n",
              "<tr>\n",
              "  <th>Covariance Type:</th>      <td>nonrobust</td>    <th>                     </th>     <td> </td>   \n",
              "</tr>\n",
              "</table>\n",
              "<table class=\"simpletable\">\n",
              "<tr>\n",
              "    <td></td>       <th>coef</th>     <th>std err</th>      <th>t</th>      <th>P>|t|</th>  <th>[0.025</th>    <th>0.975]</th>  \n",
              "</tr>\n",
              "<tr>\n",
              "  <th>const</th> <td>  -34.6706</td> <td>    2.650</td> <td>  -13.084</td> <td> 0.000</td> <td>  -39.877</td> <td>  -29.465</td>\n",
              "</tr>\n",
              "<tr>\n",
              "  <th>RM</th>    <td>    9.1021</td> <td>    0.419</td> <td>   21.722</td> <td> 0.000</td> <td>    8.279</td> <td>    9.925</td>\n",
              "</tr>\n",
              "</table>\n",
              "<table class=\"simpletable\">\n",
              "<tr>\n",
              "  <th>Omnibus:</th>       <td>102.585</td> <th>  Durbin-Watson:     </th> <td>   0.684</td> \n",
              "</tr>\n",
              "<tr>\n",
              "  <th>Prob(Omnibus):</th> <td> 0.000</td>  <th>  Jarque-Bera (JB):  </th> <td> 612.449</td> \n",
              "</tr>\n",
              "<tr>\n",
              "  <th>Skew:</th>          <td> 0.726</td>  <th>  Prob(JB):          </th> <td>1.02e-133</td>\n",
              "</tr>\n",
              "<tr>\n",
              "  <th>Kurtosis:</th>      <td> 8.190</td>  <th>  Cond. No.          </th> <td>    58.4</td> \n",
              "</tr>\n",
              "</table><br/><br/>Warnings:<br/>[1] Standard Errors assume that the covariance matrix of the errors is correctly specified."
            ],
            "text/plain": [
              "<class 'statsmodels.iolib.summary.Summary'>\n",
              "\"\"\"\n",
              "                            OLS Regression Results                            \n",
              "==============================================================================\n",
              "Dep. Variable:                   MEDV   R-squared:                       0.484\n",
              "Model:                            OLS   Adj. R-squared:                  0.483\n",
              "Method:                 Least Squares   F-statistic:                     471.8\n",
              "Date:                Mon, 25 May 2020   Prob (F-statistic):           2.49e-74\n",
              "Time:                        01:58:59   Log-Likelihood:                -1673.1\n",
              "No. Observations:                 506   AIC:                             3350.\n",
              "Df Residuals:                     504   BIC:                             3359.\n",
              "Df Model:                           1                                         \n",
              "Covariance Type:            nonrobust                                         \n",
              "==============================================================================\n",
              "                 coef    std err          t      P>|t|      [0.025      0.975]\n",
              "------------------------------------------------------------------------------\n",
              "const        -34.6706      2.650    -13.084      0.000     -39.877     -29.465\n",
              "RM             9.1021      0.419     21.722      0.000       8.279       9.925\n",
              "==============================================================================\n",
              "Omnibus:                      102.585   Durbin-Watson:                   0.684\n",
              "Prob(Omnibus):                  0.000   Jarque-Bera (JB):              612.449\n",
              "Skew:                           0.726   Prob(JB):                    1.02e-133\n",
              "Kurtosis:                       8.190   Cond. No.                         58.4\n",
              "==============================================================================\n",
              "\n",
              "Warnings:\n",
              "[1] Standard Errors assume that the covariance matrix of the errors is correctly specified.\n",
              "\"\"\""
            ]
          },
          "metadata": {
            "tags": []
          },
          "execution_count": 6
        }
      ]
    },
    {
      "cell_type": "code",
      "metadata": {
        "id": "dQA88T1hjcKN",
        "colab_type": "code",
        "colab": {}
      },
      "source": [
        ""
      ],
      "execution_count": 0,
      "outputs": []
    },
    {
      "cell_type": "markdown",
      "metadata": {
        "id": "-3n1oP_xjmWA",
        "colab_type": "text"
      },
      "source": [
        "Now let’s try fitting a regression model with more than one variable — we’ll be using RM and LSTAT I’ve mentioned before. Model fitting is the same:"
      ]
    },
    {
      "cell_type": "code",
      "metadata": {
        "id": "LhUCfv7Ljmx8",
        "colab_type": "code",
        "colab": {
          "base_uri": "https://localhost:8080/",
          "height": 444
        },
        "outputId": "1094a38a-0df6-4be8-ca49-f1a9ff7e5b2d"
      },
      "source": [
        "X = df[[\"RM\", \"LSTAT\"]]\n",
        "y = target[\"MEDV\"]\n",
        "model = sm.OLS(y, X).fit()\n",
        "predictions = model.predict(X)\n",
        "model.summary()"
      ],
      "execution_count": 9,
      "outputs": [
        {
          "output_type": "execute_result",
          "data": {
            "text/html": [
              "<table class=\"simpletable\">\n",
              "<caption>OLS Regression Results</caption>\n",
              "<tr>\n",
              "  <th>Dep. Variable:</th>          <td>MEDV</td>       <th>  R-squared (uncentered):</th>      <td>   0.948</td>\n",
              "</tr>\n",
              "<tr>\n",
              "  <th>Model:</th>                   <td>OLS</td>       <th>  Adj. R-squared (uncentered):</th> <td>   0.948</td>\n",
              "</tr>\n",
              "<tr>\n",
              "  <th>Method:</th>             <td>Least Squares</td>  <th>  F-statistic:       </th>          <td>   4637.</td>\n",
              "</tr>\n",
              "<tr>\n",
              "  <th>Date:</th>             <td>Mon, 25 May 2020</td> <th>  Prob (F-statistic):</th>           <td>  0.00</td> \n",
              "</tr>\n",
              "<tr>\n",
              "  <th>Time:</th>                 <td>02:00:33</td>     <th>  Log-Likelihood:    </th>          <td> -1582.9</td>\n",
              "</tr>\n",
              "<tr>\n",
              "  <th>No. Observations:</th>      <td>   506</td>      <th>  AIC:               </th>          <td>   3170.</td>\n",
              "</tr>\n",
              "<tr>\n",
              "  <th>Df Residuals:</th>          <td>   504</td>      <th>  BIC:               </th>          <td>   3178.</td>\n",
              "</tr>\n",
              "<tr>\n",
              "  <th>Df Model:</th>              <td>     2</td>      <th>                     </th>              <td> </td>   \n",
              "</tr>\n",
              "<tr>\n",
              "  <th>Covariance Type:</th>      <td>nonrobust</td>    <th>                     </th>              <td> </td>   \n",
              "</tr>\n",
              "</table>\n",
              "<table class=\"simpletable\">\n",
              "<tr>\n",
              "    <td></td>       <th>coef</th>     <th>std err</th>      <th>t</th>      <th>P>|t|</th>  <th>[0.025</th>    <th>0.975]</th>  \n",
              "</tr>\n",
              "<tr>\n",
              "  <th>RM</th>    <td>    4.9069</td> <td>    0.070</td> <td>   69.906</td> <td> 0.000</td> <td>    4.769</td> <td>    5.045</td>\n",
              "</tr>\n",
              "<tr>\n",
              "  <th>LSTAT</th> <td>   -0.6557</td> <td>    0.031</td> <td>  -21.458</td> <td> 0.000</td> <td>   -0.716</td> <td>   -0.596</td>\n",
              "</tr>\n",
              "</table>\n",
              "<table class=\"simpletable\">\n",
              "<tr>\n",
              "  <th>Omnibus:</th>       <td>145.153</td> <th>  Durbin-Watson:     </th> <td>   0.834</td>\n",
              "</tr>\n",
              "<tr>\n",
              "  <th>Prob(Omnibus):</th> <td> 0.000</td>  <th>  Jarque-Bera (JB):  </th> <td> 442.157</td>\n",
              "</tr>\n",
              "<tr>\n",
              "  <th>Skew:</th>          <td> 1.351</td>  <th>  Prob(JB):          </th> <td>9.70e-97</td>\n",
              "</tr>\n",
              "<tr>\n",
              "  <th>Kurtosis:</th>      <td> 6.698</td>  <th>  Cond. No.          </th> <td>    4.72</td>\n",
              "</tr>\n",
              "</table><br/><br/>Warnings:<br/>[1] Standard Errors assume that the covariance matrix of the errors is correctly specified."
            ],
            "text/plain": [
              "<class 'statsmodels.iolib.summary.Summary'>\n",
              "\"\"\"\n",
              "                                 OLS Regression Results                                \n",
              "=======================================================================================\n",
              "Dep. Variable:                   MEDV   R-squared (uncentered):                   0.948\n",
              "Model:                            OLS   Adj. R-squared (uncentered):              0.948\n",
              "Method:                 Least Squares   F-statistic:                              4637.\n",
              "Date:                Mon, 25 May 2020   Prob (F-statistic):                        0.00\n",
              "Time:                        02:00:33   Log-Likelihood:                         -1582.9\n",
              "No. Observations:                 506   AIC:                                      3170.\n",
              "Df Residuals:                     504   BIC:                                      3178.\n",
              "Df Model:                           2                                                  \n",
              "Covariance Type:            nonrobust                                                  \n",
              "==============================================================================\n",
              "                 coef    std err          t      P>|t|      [0.025      0.975]\n",
              "------------------------------------------------------------------------------\n",
              "RM             4.9069      0.070     69.906      0.000       4.769       5.045\n",
              "LSTAT         -0.6557      0.031    -21.458      0.000      -0.716      -0.596\n",
              "==============================================================================\n",
              "Omnibus:                      145.153   Durbin-Watson:                   0.834\n",
              "Prob(Omnibus):                  0.000   Jarque-Bera (JB):              442.157\n",
              "Skew:                           1.351   Prob(JB):                     9.70e-97\n",
              "Kurtosis:                       6.698   Cond. No.                         4.72\n",
              "==============================================================================\n",
              "\n",
              "Warnings:\n",
              "[1] Standard Errors assume that the covariance matrix of the errors is correctly specified.\n",
              "\"\"\""
            ]
          },
          "metadata": {
            "tags": []
          },
          "execution_count": 9
        }
      ]
    },
    {
      "cell_type": "code",
      "metadata": {
        "id": "Jl9rpOhOjoOG",
        "colab_type": "code",
        "colab": {}
      },
      "source": [
        ""
      ],
      "execution_count": 0,
      "outputs": []
    },
    {
      "cell_type": "markdown",
      "metadata": {
        "id": "W7cJdNyfnEmP",
        "colab_type": "text"
      },
      "source": [
        "Testing the assumptions of Linear regression"
      ]
    },
    {
      "cell_type": "markdown",
      "metadata": {
        "id": "ci7cV6OhnEi2",
        "colab_type": "text"
      },
      "source": [
        "1.Linear Relationship between dependent and independent variables"
      ]
    },
    {
      "cell_type": "markdown",
      "metadata": {
        "id": "hOr6pDSknEby",
        "colab_type": "text"
      },
      "source": [
        ""
      ]
    },
    {
      "cell_type": "code",
      "metadata": {
        "id": "L7dtwMiknTKF",
        "colab_type": "code",
        "colab": {
          "base_uri": "https://localhost:8080/",
          "height": 298
        },
        "outputId": "49e210f8-9e46-49cc-b976-0782fffe46fe"
      },
      "source": [
        "import matplotlib.pyplot as plt\n",
        "\n",
        "plt.plot(df[\"RM\"], target[\"MEDV\"], 'o', color='black');\n",
        "plt.title(\"Linear Relationship Exists\")"
      ],
      "execution_count": 12,
      "outputs": [
        {
          "output_type": "execute_result",
          "data": {
            "text/plain": [
              "Text(0.5, 1.0, 'Linear Relationship Exists')"
            ]
          },
          "metadata": {
            "tags": []
          },
          "execution_count": 12
        },
        {
          "output_type": "display_data",
          "data": {
            "image/png": "[encoded data removed]",
            "text/plain": [
              "<Figure size 432x288 with 1 Axes>"
            ]
          },
          "metadata": {
            "tags": [],
            "needs_background": "light"
          }
        }
      ]
    },
    {
      "cell_type": "markdown",
      "metadata": {
        "id": "EI4b7sBYniP2",
        "colab_type": "text"
      },
      "source": [
        "# 2.All variables follow a normal distribution - Quantile-Quantile plot and is a technique to compare two probability distributions in a visual manner."
      ]
    },
    {
      "cell_type": "code",
      "metadata": {
        "id": "a2ojcP4YneG4",
        "colab_type": "code",
        "colab": {
          "base_uri": "https://localhost:8080/",
          "height": 295
        },
        "outputId": "769db5bb-c839-4889-92b1-749b1bc9e9f7"
      },
      "source": [
        "import scipy.stats as stats\n",
        "stats.probplot(df[\"RM\"], dist=\"norm\", plot=plt)\n",
        "plt.show()"
      ],
      "execution_count": 13,
      "outputs": [
        {
          "output_type": "display_data",
          "data": {
            "image/png": "[encoded data removed]",
            "text/plain": [
              "<Figure size 432x288 with 1 Axes>"
            ]
          },
          "metadata": {
            "tags": [],
            "needs_background": "light"
          }
        }
      ]
    },
    {
      "cell_type": "markdown",
      "metadata": {
        "id": "t8D7P-aZobHS",
        "colab_type": "text"
      },
      "source": [
        "3.There is little or no Multicollinearity"
      ]
    },
    {
      "cell_type": "code",
      "metadata": {
        "id": "UKxXZMlZoUim",
        "colab_type": "code",
        "colab": {
          "base_uri": "https://localhost:8080/",
          "height": 313
        },
        "outputId": "66d52934-9439-41f0-c4b2-9580401ab781"
      },
      "source": [
        "#convert to a pandas dataframe\n",
        "import pandas as pd\n",
        "\n",
        "#generate correlation matrix\n",
        "corr = df.corr()\n",
        "corr.style.background_gradient(cmap='coolwarm')\n"
      ],
      "execution_count": 15,
      "outputs": [
        {
          "output_type": "execute_result",
          "data": {
            "text/html": [
              "<style  type=\"text/css\" >\n",
              "    #T_c9aa24a4_9e2e_11ea_9cad_0242ac1c0002row0_col0 {\n",
              "            background-color:  #b40426;\n",
              "            color:  #f1f1f1;\n",
              "        }    #T_c9aa24a4_9e2e_11ea_9cad_0242ac1c0002row0_col1 {\n",
              "            background-color:  #88abfd;\n",
              "            color:  #000000;\n",
              "        }    #T_c9aa24a4_9e2e_11ea_9cad_0242ac1c0002row0_col2 {\n",
              "            background-color:  #f7bca1;\n",
              "            color:  #000000;\n",
              "        }    #T_c9aa24a4_9e2e_11ea_9cad_0242ac1c0002row0_col3 {\n",
              "            background-color:  #4b64d5;\n",
              "            color:  #f1f1f1;\n",
              "        }    #T_c9aa24a4_9e2e_11ea_9cad_0242ac1c0002row0_col4 {\n",
              "            background-color:  #f7b599;\n",
              "            color:  #000000;\n",
              "        }    #T_c9aa24a4_9e2e_11ea_9cad_0242ac1c0002row0_col5 {\n",
              "            background-color:  #8badfd;\n",
              "            color:  #000000;\n",
              "        }    #T_c9aa24a4_9e2e_11ea_9cad_0242ac1c0002row0_col6 {\n",
              "            background-color:  #f5c2aa;\n",
              "            color:  #000000;\n",
              "        }    #T_c9aa24a4_9e2e_11ea_9cad_0242ac1c0002row0_col7 {\n",
              "            background-color:  #82a6fb;\n",
              "            color:  #000000;\n",
              "        }    #T_c9aa24a4_9e2e_11ea_9cad_0242ac1c0002row0_col8 {\n",
              "            background-color:  #f49a7b;\n",
              "            color:  #000000;\n",
              "        }    #T_c9aa24a4_9e2e_11ea_9cad_0242ac1c0002row0_col9 {\n",
              "            background-color:  #f6a283;\n",
              "            color:  #000000;\n",
              "        }    #T_c9aa24a4_9e2e_11ea_9cad_0242ac1c0002row0_col10 {\n",
              "            background-color:  #dadce0;\n",
              "            color:  #000000;\n",
              "        }    #T_c9aa24a4_9e2e_11ea_9cad_0242ac1c0002row0_col11 {\n",
              "            background-color:  #465ecf;\n",
              "            color:  #f1f1f1;\n",
              "        }    #T_c9aa24a4_9e2e_11ea_9cad_0242ac1c0002row0_col12 {\n",
              "            background-color:  #f7b99e;\n",
              "            color:  #000000;\n",
              "        }    #T_c9aa24a4_9e2e_11ea_9cad_0242ac1c0002row1_col0 {\n",
              "            background-color:  #6485ec;\n",
              "            color:  #000000;\n",
              "        }    #T_c9aa24a4_9e2e_11ea_9cad_0242ac1c0002row1_col1 {\n",
              "            background-color:  #b40426;\n",
              "            color:  #f1f1f1;\n",
              "        }    #T_c9aa24a4_9e2e_11ea_9cad_0242ac1c0002row1_col2 {\n",
              "            background-color:  #5a78e4;\n",
              "            color:  #000000;\n",
              "        }    #T_c9aa24a4_9e2e_11ea_9cad_0242ac1c0002row1_col3 {\n",
              "            background-color:  #4f69d9;\n",
              "            color:  #000000;\n",
              "        }    #T_c9aa24a4_9e2e_11ea_9cad_0242ac1c0002row1_col4 {\n",
              "            background-color:  #6788ee;\n",
              "            color:  #000000;\n",
              "        }    #T_c9aa24a4_9e2e_11ea_9cad_0242ac1c0002row1_col5 {\n",
              "            background-color:  #edd1c2;\n",
              "            color:  #000000;\n",
              "        }    #T_c9aa24a4_9e2e_11ea_9cad_0242ac1c0002row1_col6 {\n",
              "            background-color:  #5a78e4;\n",
              "            color:  #000000;\n",
              "        }    #T_c9aa24a4_9e2e_11ea_9cad_0242ac1c0002row1_col7 {\n",
              "            background-color:  #ec7f63;\n",
              "            color:  #000000;\n",
              "        }    #T_c9aa24a4_9e2e_11ea_9cad_0242ac1c0002row1_col8 {\n",
              "            background-color:  #6180e9;\n",
              "            color:  #000000;\n",
              "        }    #T_c9aa24a4_9e2e_11ea_9cad_0242ac1c0002row1_col9 {\n",
              "            background-color:  #6788ee;\n",
              "            color:  #000000;\n",
              "        }    #T_c9aa24a4_9e2e_11ea_9cad_0242ac1c0002row1_col10 {\n",
              "            background-color:  #3b4cc0;\n",
              "            color:  #f1f1f1;\n",
              "        }    #T_c9aa24a4_9e2e_11ea_9cad_0242ac1c0002row1_col11 {\n",
              "            background-color:  #c9d7f0;\n",
              "            color:  #000000;\n",
              "        }    #T_c9aa24a4_9e2e_11ea_9cad_0242ac1c0002row1_col12 {\n",
              "            background-color:  #6180e9;\n",
              "            color:  #000000;\n",
              "        }    #T_c9aa24a4_9e2e_11ea_9cad_0242ac1c0002row2_col0 {\n",
              "            background-color:  #edd1c2;\n",
              "            color:  #000000;\n",
              "        }    #T_c9aa24a4_9e2e_11ea_9cad_0242ac1c0002row2_col1 {\n",
              "            background-color:  #4055c8;\n",
              "            color:  #f1f1f1;\n",
              "        }    #T_c9aa24a4_9e2e_11ea_9cad_0242ac1c0002row2_col2 {\n",
              "            background-color:  #b40426;\n",
              "            color:  #f1f1f1;\n",
              "        }    #T_c9aa24a4_9e2e_11ea_9cad_0242ac1c0002row2_col3 {\n",
              "            background-color:  #6f92f3;\n",
              "            color:  #000000;\n",
              "        }    #T_c9aa24a4_9e2e_11ea_9cad_0242ac1c0002row2_col4 {\n",
              "            background-color:  #e0654f;\n",
              "            color:  #000000;\n",
              "        }    #T_c9aa24a4_9e2e_11ea_9cad_0242ac1c0002row2_col5 {\n",
              "            background-color:  #6687ed;\n",
              "            color:  #000000;\n",
              "        }    #T_c9aa24a4_9e2e_11ea_9cad_0242ac1c0002row2_col6 {\n",
              "            background-color:  #ee8669;\n",
              "            color:  #000000;\n",
              "        }    #T_c9aa24a4_9e2e_11ea_9cad_0242ac1c0002row2_col7 {\n",
              "            background-color:  #445acc;\n",
              "            color:  #f1f1f1;\n",
              "        }    #T_c9aa24a4_9e2e_11ea_9cad_0242ac1c0002row2_col8 {\n",
              "            background-color:  #f6a283;\n",
              "            color:  #000000;\n",
              "        }    #T_c9aa24a4_9e2e_11ea_9cad_0242ac1c0002row2_col9 {\n",
              "            background-color:  #ea7b60;\n",
              "            color:  #000000;\n",
              "        }    #T_c9aa24a4_9e2e_11ea_9cad_0242ac1c0002row2_col10 {\n",
              "            background-color:  #ead4c8;\n",
              "            color:  #000000;\n",
              "        }    #T_c9aa24a4_9e2e_11ea_9cad_0242ac1c0002row2_col11 {\n",
              "            background-color:  #4c66d6;\n",
              "            color:  #000000;\n",
              "        }    #T_c9aa24a4_9e2e_11ea_9cad_0242ac1c0002row2_col12 {\n",
              "            background-color:  #f39778;\n",
              "            color:  #000000;\n",
              "        }    #T_c9aa24a4_9e2e_11ea_9cad_0242ac1c0002row3_col0 {\n",
              "            background-color:  #88abfd;\n",
              "            color:  #000000;\n",
              "        }    #T_c9aa24a4_9e2e_11ea_9cad_0242ac1c0002row3_col1 {\n",
              "            background-color:  #aac7fd;\n",
              "            color:  #000000;\n",
              "        }    #T_c9aa24a4_9e2e_11ea_9cad_0242ac1c0002row3_col2 {\n",
              "            background-color:  #cfdaea;\n",
              "            color:  #000000;\n",
              "        }    #T_c9aa24a4_9e2e_11ea_9cad_0242ac1c0002row3_col3 {\n",
              "            background-color:  #b40426;\n",
              "            color:  #f1f1f1;\n",
              "        }    #T_c9aa24a4_9e2e_11ea_9cad_0242ac1c0002row3_col4 {\n",
              "            background-color:  #d9dce1;\n",
              "            color:  #000000;\n",
              "        }    #T_c9aa24a4_9e2e_11ea_9cad_0242ac1c0002row3_col5 {\n",
              "            background-color:  #cbd8ee;\n",
              "            color:  #000000;\n",
              "        }    #T_c9aa24a4_9e2e_11ea_9cad_0242ac1c0002row3_col6 {\n",
              "            background-color:  #d7dce3;\n",
              "            color:  #000000;\n",
              "        }    #T_c9aa24a4_9e2e_11ea_9cad_0242ac1c0002row3_col7 {\n",
              "            background-color:  #b9d0f9;\n",
              "            color:  #000000;\n",
              "        }    #T_c9aa24a4_9e2e_11ea_9cad_0242ac1c0002row3_col8 {\n",
              "            background-color:  #a7c5fe;\n",
              "            color:  #000000;\n",
              "        }    #T_c9aa24a4_9e2e_11ea_9cad_0242ac1c0002row3_col9 {\n",
              "            background-color:  #a7c5fe;\n",
              "            color:  #000000;\n",
              "        }    #T_c9aa24a4_9e2e_11ea_9cad_0242ac1c0002row3_col10 {\n",
              "            background-color:  #799cf8;\n",
              "            color:  #000000;\n",
              "        }    #T_c9aa24a4_9e2e_11ea_9cad_0242ac1c0002row3_col11 {\n",
              "            background-color:  #adc9fd;\n",
              "            color:  #000000;\n",
              "        }    #T_c9aa24a4_9e2e_11ea_9cad_0242ac1c0002row3_col12 {\n",
              "            background-color:  #aec9fc;\n",
              "            color:  #000000;\n",
              "        }    #T_c9aa24a4_9e2e_11ea_9cad_0242ac1c0002row4_col0 {\n",
              "            background-color:  #efcfbf;\n",
              "            color:  #000000;\n",
              "        }    #T_c9aa24a4_9e2e_11ea_9cad_0242ac1c0002row4_col1 {\n",
              "            background-color:  #445acc;\n",
              "            color:  #f1f1f1;\n",
              "        }    #T_c9aa24a4_9e2e_11ea_9cad_0242ac1c0002row4_col2 {\n",
              "            background-color:  #e16751;\n",
              "            color:  #000000;\n",
              "        }    #T_c9aa24a4_9e2e_11ea_9cad_0242ac1c0002row4_col3 {\n",
              "            background-color:  #779af7;\n",
              "            color:  #000000;\n",
              "        }    #T_c9aa24a4_9e2e_11ea_9cad_0242ac1c0002row4_col4 {\n",
              "            background-color:  #b40426;\n",
              "            color:  #f1f1f1;\n",
              "        }    #T_c9aa24a4_9e2e_11ea_9cad_0242ac1c0002row4_col5 {\n",
              "            background-color:  #799cf8;\n",
              "            color:  #000000;\n",
              "        }    #T_c9aa24a4_9e2e_11ea_9cad_0242ac1c0002row4_col6 {\n",
              "            background-color:  #e46e56;\n",
              "            color:  #000000;\n",
              "        }    #T_c9aa24a4_9e2e_11ea_9cad_0242ac1c0002row4_col7 {\n",
              "            background-color:  #3b4cc0;\n",
              "            color:  #f1f1f1;\n",
              "        }    #T_c9aa24a4_9e2e_11ea_9cad_0242ac1c0002row4_col8 {\n",
              "            background-color:  #f59d7e;\n",
              "            color:  #000000;\n",
              "        }    #T_c9aa24a4_9e2e_11ea_9cad_0242ac1c0002row4_col9 {\n",
              "            background-color:  #f08b6e;\n",
              "            color:  #000000;\n",
              "        }    #T_c9aa24a4_9e2e_11ea_9cad_0242ac1c0002row4_col10 {\n",
              "            background-color:  #c5d6f2;\n",
              "            color:  #000000;\n",
              "        }    #T_c9aa24a4_9e2e_11ea_9cad_0242ac1c0002row4_col11 {\n",
              "            background-color:  #485fd1;\n",
              "            color:  #f1f1f1;\n",
              "        }    #T_c9aa24a4_9e2e_11ea_9cad_0242ac1c0002row4_col12 {\n",
              "            background-color:  #f49a7b;\n",
              "            color:  #000000;\n",
              "        }    #T_c9aa24a4_9e2e_11ea_9cad_0242ac1c0002row5_col0 {\n",
              "            background-color:  #5f7fe8;\n",
              "            color:  #000000;\n",
              "        }    #T_c9aa24a4_9e2e_11ea_9cad_0242ac1c0002row5_col1 {\n",
              "            background-color:  #ebd3c6;\n",
              "            color:  #000000;\n",
              "        }    #T_c9aa24a4_9e2e_11ea_9cad_0242ac1c0002row5_col2 {\n",
              "            background-color:  #7699f6;\n",
              "            color:  #000000;\n",
              "        }    #T_c9aa24a4_9e2e_11ea_9cad_0242ac1c0002row5_col3 {\n",
              "            background-color:  #779af7;\n",
              "            color:  #000000;\n",
              "        }    #T_c9aa24a4_9e2e_11ea_9cad_0242ac1c0002row5_col4 {\n",
              "            background-color:  #92b4fe;\n",
              "            color:  #000000;\n",
              "        }    #T_c9aa24a4_9e2e_11ea_9cad_0242ac1c0002row5_col5 {\n",
              "            background-color:  #b40426;\n",
              "            color:  #f1f1f1;\n",
              "        }    #T_c9aa24a4_9e2e_11ea_9cad_0242ac1c0002row5_col6 {\n",
              "            background-color:  #9bbcff;\n",
              "            color:  #000000;\n",
              "        }    #T_c9aa24a4_9e2e_11ea_9cad_0242ac1c0002row5_col7 {\n",
              "            background-color:  #ead5c9;\n",
              "            color:  #000000;\n",
              "        }    #T_c9aa24a4_9e2e_11ea_9cad_0242ac1c0002row5_col8 {\n",
              "            background-color:  #779af7;\n",
              "            color:  #000000;\n",
              "        }    #T_c9aa24a4_9e2e_11ea_9cad_0242ac1c0002row5_col9 {\n",
              "            background-color:  #6c8ff1;\n",
              "            color:  #000000;\n",
              "        }    #T_c9aa24a4_9e2e_11ea_9cad_0242ac1c0002row5_col10 {\n",
              "            background-color:  #4257c9;\n",
              "            color:  #f1f1f1;\n",
              "        }    #T_c9aa24a4_9e2e_11ea_9cad_0242ac1c0002row5_col11 {\n",
              "            background-color:  #bfd3f6;\n",
              "            color:  #000000;\n",
              "        }    #T_c9aa24a4_9e2e_11ea_9cad_0242ac1c0002row5_col12 {\n",
              "            background-color:  #3b4cc0;\n",
              "            color:  #f1f1f1;\n",
              "        }    #T_c9aa24a4_9e2e_11ea_9cad_0242ac1c0002row6_col0 {\n",
              "            background-color:  #e5d8d1;\n",
              "            color:  #000000;\n",
              "        }    #T_c9aa24a4_9e2e_11ea_9cad_0242ac1c0002row6_col1 {\n",
              "            background-color:  #3b4cc0;\n",
              "            color:  #f1f1f1;\n",
              "        }    #T_c9aa24a4_9e2e_11ea_9cad_0242ac1c0002row6_col2 {\n",
              "            background-color:  #ef886b;\n",
              "            color:  #000000;\n",
              "        }    #T_c9aa24a4_9e2e_11ea_9cad_0242ac1c0002row6_col3 {\n",
              "            background-color:  #7699f6;\n",
              "            color:  #000000;\n",
              "        }    #T_c9aa24a4_9e2e_11ea_9cad_0242ac1c0002row6_col4 {\n",
              "            background-color:  #e36c55;\n",
              "            color:  #000000;\n",
              "        }    #T_c9aa24a4_9e2e_11ea_9cad_0242ac1c0002row6_col5 {\n",
              "            background-color:  #86a9fc;\n",
              "            color:  #000000;\n",
              "        }    #T_c9aa24a4_9e2e_11ea_9cad_0242ac1c0002row6_col6 {\n",
              "            background-color:  #b40426;\n",
              "            color:  #f1f1f1;\n",
              "        }    #T_c9aa24a4_9e2e_11ea_9cad_0242ac1c0002row6_col7 {\n",
              "            background-color:  #3e51c5;\n",
              "            color:  #f1f1f1;\n",
              "        }    #T_c9aa24a4_9e2e_11ea_9cad_0242ac1c0002row6_col8 {\n",
              "            background-color:  #f5c1a9;\n",
              "            color:  #000000;\n",
              "        }    #T_c9aa24a4_9e2e_11ea_9cad_0242ac1c0002row6_col9 {\n",
              "            background-color:  #f7b497;\n",
              "            color:  #000000;\n",
              "        }    #T_c9aa24a4_9e2e_11ea_9cad_0242ac1c0002row6_col10 {\n",
              "            background-color:  #d5dbe5;\n",
              "            color:  #000000;\n",
              "        }    #T_c9aa24a4_9e2e_11ea_9cad_0242ac1c0002row6_col11 {\n",
              "            background-color:  #5f7fe8;\n",
              "            color:  #000000;\n",
              "        }    #T_c9aa24a4_9e2e_11ea_9cad_0242ac1c0002row6_col12 {\n",
              "            background-color:  #f4987a;\n",
              "            color:  #000000;\n",
              "        }    #T_c9aa24a4_9e2e_11ea_9cad_0242ac1c0002row7_col0 {\n",
              "            background-color:  #3b4cc0;\n",
              "            color:  #f1f1f1;\n",
              "        }    #T_c9aa24a4_9e2e_11ea_9cad_0242ac1c0002row7_col1 {\n",
              "            background-color:  #f08a6c;\n",
              "            color:  #000000;\n",
              "        }    #T_c9aa24a4_9e2e_11ea_9cad_0242ac1c0002row7_col2 {\n",
              "            background-color:  #3b4cc0;\n",
              "            color:  #f1f1f1;\n",
              "        }    #T_c9aa24a4_9e2e_11ea_9cad_0242ac1c0002row7_col3 {\n",
              "            background-color:  #4055c8;\n",
              "            color:  #f1f1f1;\n",
              "        }    #T_c9aa24a4_9e2e_11ea_9cad_0242ac1c0002row7_col4 {\n",
              "            background-color:  #3b4cc0;\n",
              "            color:  #f1f1f1;\n",
              "        }    #T_c9aa24a4_9e2e_11ea_9cad_0242ac1c0002row7_col5 {\n",
              "            background-color:  #dedcdb;\n",
              "            color:  #000000;\n",
              "        }    #T_c9aa24a4_9e2e_11ea_9cad_0242ac1c0002row7_col6 {\n",
              "            background-color:  #3b4cc0;\n",
              "            color:  #f1f1f1;\n",
              "        }    #T_c9aa24a4_9e2e_11ea_9cad_0242ac1c0002row7_col7 {\n",
              "            background-color:  #b40426;\n",
              "            color:  #f1f1f1;\n",
              "        }    #T_c9aa24a4_9e2e_11ea_9cad_0242ac1c0002row7_col8 {\n",
              "            background-color:  #3b4cc0;\n",
              "            color:  #f1f1f1;\n",
              "        }    #T_c9aa24a4_9e2e_11ea_9cad_0242ac1c0002row7_col9 {\n",
              "            background-color:  #3b4cc0;\n",
              "            color:  #f1f1f1;\n",
              "        }    #T_c9aa24a4_9e2e_11ea_9cad_0242ac1c0002row7_col10 {\n",
              "            background-color:  #5e7de7;\n",
              "            color:  #000000;\n",
              "        }    #T_c9aa24a4_9e2e_11ea_9cad_0242ac1c0002row7_col11 {\n",
              "            background-color:  #dfdbd9;\n",
              "            color:  #000000;\n",
              "        }    #T_c9aa24a4_9e2e_11ea_9cad_0242ac1c0002row7_col12 {\n",
              "            background-color:  #506bda;\n",
              "            color:  #000000;\n",
              "        }    #T_c9aa24a4_9e2e_11ea_9cad_0242ac1c0002row8_col0 {\n",
              "            background-color:  #f6a283;\n",
              "            color:  #000000;\n",
              "        }    #T_c9aa24a4_9e2e_11ea_9cad_0242ac1c0002row8_col1 {\n",
              "            background-color:  #6f92f3;\n",
              "            color:  #000000;\n",
              "        }    #T_c9aa24a4_9e2e_11ea_9cad_0242ac1c0002row8_col2 {\n",
              "            background-color:  #f39475;\n",
              "            color:  #000000;\n",
              "        }    #T_c9aa24a4_9e2e_11ea_9cad_0242ac1c0002row8_col3 {\n",
              "            background-color:  #5a78e4;\n",
              "            color:  #000000;\n",
              "        }    #T_c9aa24a4_9e2e_11ea_9cad_0242ac1c0002row8_col4 {\n",
              "            background-color:  #f18d6f;\n",
              "            color:  #000000;\n",
              "        }    #T_c9aa24a4_9e2e_11ea_9cad_0242ac1c0002row8_col5 {\n",
              "            background-color:  #8db0fe;\n",
              "            color:  #000000;\n",
              "        }    #T_c9aa24a4_9e2e_11ea_9cad_0242ac1c0002row8_col6 {\n",
              "            background-color:  #f7b093;\n",
              "            color:  #000000;\n",
              "        }    #T_c9aa24a4_9e2e_11ea_9cad_0242ac1c0002row8_col7 {\n",
              "            background-color:  #6b8df0;\n",
              "            color:  #000000;\n",
              "        }    #T_c9aa24a4_9e2e_11ea_9cad_0242ac1c0002row8_col8 {\n",
              "            background-color:  #b40426;\n",
              "            color:  #f1f1f1;\n",
              "        }    #T_c9aa24a4_9e2e_11ea_9cad_0242ac1c0002row8_col9 {\n",
              "            background-color:  #c83836;\n",
              "            color:  #f1f1f1;\n",
              "        }    #T_c9aa24a4_9e2e_11ea_9cad_0242ac1c0002row8_col10 {\n",
              "            background-color:  #f3c7b1;\n",
              "            color:  #000000;\n",
              "        }    #T_c9aa24a4_9e2e_11ea_9cad_0242ac1c0002row8_col11 {\n",
              "            background-color:  #3b4cc0;\n",
              "            color:  #f1f1f1;\n",
              "        }    #T_c9aa24a4_9e2e_11ea_9cad_0242ac1c0002row8_col12 {\n",
              "            background-color:  #f7b396;\n",
              "            color:  #000000;\n",
              "        }    #T_c9aa24a4_9e2e_11ea_9cad_0242ac1c0002row9_col0 {\n",
              "            background-color:  #f7ad90;\n",
              "            color:  #000000;\n",
              "        }    #T_c9aa24a4_9e2e_11ea_9cad_0242ac1c0002row9_col1 {\n",
              "            background-color:  #6e90f2;\n",
              "            color:  #000000;\n",
              "        }    #T_c9aa24a4_9e2e_11ea_9cad_0242ac1c0002row9_col2 {\n",
              "            background-color:  #e67259;\n",
              "            color:  #000000;\n",
              "        }    #T_c9aa24a4_9e2e_11ea_9cad_0242ac1c0002row9_col3 {\n",
              "            background-color:  #516ddb;\n",
              "            color:  #000000;\n",
              "        }    #T_c9aa24a4_9e2e_11ea_9cad_0242ac1c0002row9_col4 {\n",
              "            background-color:  #ec7f63;\n",
              "            color:  #000000;\n",
              "        }    #T_c9aa24a4_9e2e_11ea_9cad_0242ac1c0002row9_col5 {\n",
              "            background-color:  #7b9ff9;\n",
              "            color:  #000000;\n",
              "        }    #T_c9aa24a4_9e2e_11ea_9cad_0242ac1c0002row9_col6 {\n",
              "            background-color:  #f7a688;\n",
              "            color:  #000000;\n",
              "        }    #T_c9aa24a4_9e2e_11ea_9cad_0242ac1c0002row9_col7 {\n",
              "            background-color:  #6384eb;\n",
              "            color:  #000000;\n",
              "        }    #T_c9aa24a4_9e2e_11ea_9cad_0242ac1c0002row9_col8 {\n",
              "            background-color:  #ca3b37;\n",
              "            color:  #f1f1f1;\n",
              "        }    #T_c9aa24a4_9e2e_11ea_9cad_0242ac1c0002row9_col9 {\n",
              "            background-color:  #b40426;\n",
              "            color:  #f1f1f1;\n",
              "        }    #T_c9aa24a4_9e2e_11ea_9cad_0242ac1c0002row9_col10 {\n",
              "            background-color:  #f3c8b2;\n",
              "            color:  #000000;\n",
              "        }    #T_c9aa24a4_9e2e_11ea_9cad_0242ac1c0002row9_col11 {\n",
              "            background-color:  #3b4cc0;\n",
              "            color:  #f1f1f1;\n",
              "        }    #T_c9aa24a4_9e2e_11ea_9cad_0242ac1c0002row9_col12 {\n",
              "            background-color:  #f7a688;\n",
              "            color:  #000000;\n",
              "        }    #T_c9aa24a4_9e2e_11ea_9cad_0242ac1c0002row10_col0 {\n",
              "            background-color:  #d9dce1;\n",
              "            color:  #000000;\n",
              "        }    #T_c9aa24a4_9e2e_11ea_9cad_0242ac1c0002row10_col1 {\n",
              "            background-color:  #5e7de7;\n",
              "            color:  #000000;\n",
              "        }    #T_c9aa24a4_9e2e_11ea_9cad_0242ac1c0002row10_col2 {\n",
              "            background-color:  #f5c0a7;\n",
              "            color:  #000000;\n",
              "        }    #T_c9aa24a4_9e2e_11ea_9cad_0242ac1c0002row10_col3 {\n",
              "            background-color:  #3b4cc0;\n",
              "            color:  #f1f1f1;\n",
              "        }    #T_c9aa24a4_9e2e_11ea_9cad_0242ac1c0002row10_col4 {\n",
              "            background-color:  #e7d7ce;\n",
              "            color:  #000000;\n",
              "        }    #T_c9aa24a4_9e2e_11ea_9cad_0242ac1c0002row10_col5 {\n",
              "            background-color:  #6c8ff1;\n",
              "            color:  #000000;\n",
              "        }    #T_c9aa24a4_9e2e_11ea_9cad_0242ac1c0002row10_col6 {\n",
              "            background-color:  #eed0c0;\n",
              "            color:  #000000;\n",
              "        }    #T_c9aa24a4_9e2e_11ea_9cad_0242ac1c0002row10_col7 {\n",
              "            background-color:  #9fbfff;\n",
              "            color:  #000000;\n",
              "        }    #T_c9aa24a4_9e2e_11ea_9cad_0242ac1c0002row10_col8 {\n",
              "            background-color:  #f6bfa6;\n",
              "            color:  #000000;\n",
              "        }    #T_c9aa24a4_9e2e_11ea_9cad_0242ac1c0002row10_col9 {\n",
              "            background-color:  #f6bda2;\n",
              "            color:  #000000;\n",
              "        }    #T_c9aa24a4_9e2e_11ea_9cad_0242ac1c0002row10_col10 {\n",
              "            background-color:  #b40426;\n",
              "            color:  #f1f1f1;\n",
              "        }    #T_c9aa24a4_9e2e_11ea_9cad_0242ac1c0002row10_col11 {\n",
              "            background-color:  #7699f6;\n",
              "            color:  #000000;\n",
              "        }    #T_c9aa24a4_9e2e_11ea_9cad_0242ac1c0002row10_col12 {\n",
              "            background-color:  #f3c8b2;\n",
              "            color:  #000000;\n",
              "        }    #T_c9aa24a4_9e2e_11ea_9cad_0242ac1c0002row11_col0 {\n",
              "            background-color:  #3b4cc0;\n",
              "            color:  #f1f1f1;\n",
              "        }    #T_c9aa24a4_9e2e_11ea_9cad_0242ac1c0002row11_col1 {\n",
              "            background-color:  #d6dce4;\n",
              "            color:  #000000;\n",
              "        }    #T_c9aa24a4_9e2e_11ea_9cad_0242ac1c0002row11_col2 {\n",
              "            background-color:  #7da0f9;\n",
              "            color:  #000000;\n",
              "        }    #T_c9aa24a4_9e2e_11ea_9cad_0242ac1c0002row11_col3 {\n",
              "            background-color:  #6a8bef;\n",
              "            color:  #000000;\n",
              "        }    #T_c9aa24a4_9e2e_11ea_9cad_0242ac1c0002row11_col4 {\n",
              "            background-color:  #82a6fb;\n",
              "            color:  #000000;\n",
              "        }    #T_c9aa24a4_9e2e_11ea_9cad_0242ac1c0002row11_col5 {\n",
              "            background-color:  #d2dbe8;\n",
              "            color:  #000000;\n",
              "        }    #T_c9aa24a4_9e2e_11ea_9cad_0242ac1c0002row11_col6 {\n",
              "            background-color:  #94b6ff;\n",
              "            color:  #000000;\n",
              "        }    #T_c9aa24a4_9e2e_11ea_9cad_0242ac1c0002row11_col7 {\n",
              "            background-color:  #f2cbb7;\n",
              "            color:  #000000;\n",
              "        }    #T_c9aa24a4_9e2e_11ea_9cad_0242ac1c0002row11_col8 {\n",
              "            background-color:  #445acc;\n",
              "            color:  #f1f1f1;\n",
              "        }    #T_c9aa24a4_9e2e_11ea_9cad_0242ac1c0002row11_col9 {\n",
              "            background-color:  #4c66d6;\n",
              "            color:  #000000;\n",
              "        }    #T_c9aa24a4_9e2e_11ea_9cad_0242ac1c0002row11_col10 {\n",
              "            background-color:  #6b8df0;\n",
              "            color:  #000000;\n",
              "        }    #T_c9aa24a4_9e2e_11ea_9cad_0242ac1c0002row11_col11 {\n",
              "            background-color:  #b40426;\n",
              "            color:  #f1f1f1;\n",
              "        }    #T_c9aa24a4_9e2e_11ea_9cad_0242ac1c0002row11_col12 {\n",
              "            background-color:  #6b8df0;\n",
              "            color:  #000000;\n",
              "        }    #T_c9aa24a4_9e2e_11ea_9cad_0242ac1c0002row12_col0 {\n",
              "            background-color:  #f2c9b4;\n",
              "            color:  #000000;\n",
              "        }    #T_c9aa24a4_9e2e_11ea_9cad_0242ac1c0002row12_col1 {\n",
              "            background-color:  #5977e3;\n",
              "            color:  #000000;\n",
              "        }    #T_c9aa24a4_9e2e_11ea_9cad_0242ac1c0002row12_col2 {\n",
              "            background-color:  #f29274;\n",
              "            color:  #000000;\n",
              "        }    #T_c9aa24a4_9e2e_11ea_9cad_0242ac1c0002row12_col3 {\n",
              "            background-color:  #4c66d6;\n",
              "            color:  #000000;\n",
              "        }    #T_c9aa24a4_9e2e_11ea_9cad_0242ac1c0002row12_col4 {\n",
              "            background-color:  #f29274;\n",
              "            color:  #000000;\n",
              "        }    #T_c9aa24a4_9e2e_11ea_9cad_0242ac1c0002row12_col5 {\n",
              "            background-color:  #3b4cc0;\n",
              "            color:  #f1f1f1;\n",
              "        }    #T_c9aa24a4_9e2e_11ea_9cad_0242ac1c0002row12_col6 {\n",
              "            background-color:  #f29072;\n",
              "            color:  #000000;\n",
              "        }    #T_c9aa24a4_9e2e_11ea_9cad_0242ac1c0002row12_col7 {\n",
              "            background-color:  #6b8df0;\n",
              "            color:  #000000;\n",
              "        }    #T_c9aa24a4_9e2e_11ea_9cad_0242ac1c0002row12_col8 {\n",
              "            background-color:  #f7ba9f;\n",
              "            color:  #000000;\n",
              "        }    #T_c9aa24a4_9e2e_11ea_9cad_0242ac1c0002row12_col9 {\n",
              "            background-color:  #f7ac8e;\n",
              "            color:  #000000;\n",
              "        }    #T_c9aa24a4_9e2e_11ea_9cad_0242ac1c0002row12_col10 {\n",
              "            background-color:  #e9d5cb;\n",
              "            color:  #000000;\n",
              "        }    #T_c9aa24a4_9e2e_11ea_9cad_0242ac1c0002row12_col11 {\n",
              "            background-color:  #4a63d3;\n",
              "            color:  #f1f1f1;\n",
              "        }    #T_c9aa24a4_9e2e_11ea_9cad_0242ac1c0002row12_col12 {\n",
              "            background-color:  #b40426;\n",
              "            color:  #f1f1f1;\n",
              "        }</style><table id=\"T_c9aa24a4_9e2e_11ea_9cad_0242ac1c0002\" ><thead>    <tr>        <th class=\"blank level0\" ></th>        <th class=\"col_heading level0 col0\" >CRIM</th>        <th class=\"col_heading level0 col1\" >ZN</th>        <th class=\"col_heading level0 col2\" >INDUS</th>        <th class=\"col_heading level0 col3\" >CHAS</th>        <th class=\"col_heading level0 col4\" >NOX</th>        <th class=\"col_heading level0 col5\" >RM</th>        <th class=\"col_heading level0 col6\" >AGE</th>        <th class=\"col_heading level0 col7\" >DIS</th>        <th class=\"col_heading level0 col8\" >RAD</th>        <th class=\"col_heading level0 col9\" >TAX</th>        <th class=\"col_heading level0 col10\" >PTRATIO</th>        <th class=\"col_heading level0 col11\" >B</th>        <th class=\"col_heading level0 col12\" >LSTAT</th>    </tr></thead><tbody>\n",
              "                <tr>\n",
              "                        <th id=\"T_c9aa24a4_9e2e_11ea_9cad_0242ac1c0002level0_row0\" class=\"row_heading level0 row0\" >CRIM</th>\n",
              "                        <td id=\"T_c9aa24a4_9e2e_11ea_9cad_0242ac1c0002row0_col0\" class=\"data row0 col0\" >1.000000</td>\n",
              "                        <td id=\"T_c9aa24a4_9e2e_11ea_9cad_0242ac1c0002row0_col1\" class=\"data row0 col1\" >-0.200469</td>\n",
              "                        <td id=\"T_c9aa24a4_9e2e_11ea_9cad_0242ac1c0002row0_col2\" class=\"data row0 col2\" >0.406583</td>\n",
              "                        <td id=\"T_c9aa24a4_9e2e_11ea_9cad_0242ac1c0002row0_col3\" class=\"data row0 col3\" >-0.055892</td>\n",
              "                        <td id=\"T_c9aa24a4_9e2e_11ea_9cad_0242ac1c0002row0_col4\" class=\"data row0 col4\" >0.420972</td>\n",
              "                        <td id=\"T_c9aa24a4_9e2e_11ea_9cad_0242ac1c0002row0_col5\" class=\"data row0 col5\" >-0.219247</td>\n",
              "                        <td id=\"T_c9aa24a4_9e2e_11ea_9cad_0242ac1c0002row0_col6\" class=\"data row0 col6\" >0.352734</td>\n",
              "                        <td id=\"T_c9aa24a4_9e2e_11ea_9cad_0242ac1c0002row0_col7\" class=\"data row0 col7\" >-0.379670</td>\n",
              "                        <td id=\"T_c9aa24a4_9e2e_11ea_9cad_0242ac1c0002row0_col8\" class=\"data row0 col8\" >0.625505</td>\n",
              "                        <td id=\"T_c9aa24a4_9e2e_11ea_9cad_0242ac1c0002row0_col9\" class=\"data row0 col9\" >0.582764</td>\n",
              "                        <td id=\"T_c9aa24a4_9e2e_11ea_9cad_0242ac1c0002row0_col10\" class=\"data row0 col10\" >0.289946</td>\n",
              "                        <td id=\"T_c9aa24a4_9e2e_11ea_9cad_0242ac1c0002row0_col11\" class=\"data row0 col11\" >-0.385064</td>\n",
              "                        <td id=\"T_c9aa24a4_9e2e_11ea_9cad_0242ac1c0002row0_col12\" class=\"data row0 col12\" >0.455621</td>\n",
              "            </tr>\n",
              "            <tr>\n",
              "                        <th id=\"T_c9aa24a4_9e2e_11ea_9cad_0242ac1c0002level0_row1\" class=\"row_heading level0 row1\" >ZN</th>\n",
              "                        <td id=\"T_c9aa24a4_9e2e_11ea_9cad_0242ac1c0002row1_col0\" class=\"data row1 col0\" >-0.200469</td>\n",
              "                        <td id=\"T_c9aa24a4_9e2e_11ea_9cad_0242ac1c0002row1_col1\" class=\"data row1 col1\" >1.000000</td>\n",
              "                        <td id=\"T_c9aa24a4_9e2e_11ea_9cad_0242ac1c0002row1_col2\" class=\"data row1 col2\" >-0.533828</td>\n",
              "                        <td id=\"T_c9aa24a4_9e2e_11ea_9cad_0242ac1c0002row1_col3\" class=\"data row1 col3\" >-0.042697</td>\n",
              "                        <td id=\"T_c9aa24a4_9e2e_11ea_9cad_0242ac1c0002row1_col4\" class=\"data row1 col4\" >-0.516604</td>\n",
              "                        <td id=\"T_c9aa24a4_9e2e_11ea_9cad_0242ac1c0002row1_col5\" class=\"data row1 col5\" >0.311991</td>\n",
              "                        <td id=\"T_c9aa24a4_9e2e_11ea_9cad_0242ac1c0002row1_col6\" class=\"data row1 col6\" >-0.569537</td>\n",
              "                        <td id=\"T_c9aa24a4_9e2e_11ea_9cad_0242ac1c0002row1_col7\" class=\"data row1 col7\" >0.664408</td>\n",
              "                        <td id=\"T_c9aa24a4_9e2e_11ea_9cad_0242ac1c0002row1_col8\" class=\"data row1 col8\" >-0.311948</td>\n",
              "                        <td id=\"T_c9aa24a4_9e2e_11ea_9cad_0242ac1c0002row1_col9\" class=\"data row1 col9\" >-0.314563</td>\n",
              "                        <td id=\"T_c9aa24a4_9e2e_11ea_9cad_0242ac1c0002row1_col10\" class=\"data row1 col10\" >-0.391679</td>\n",
              "                        <td id=\"T_c9aa24a4_9e2e_11ea_9cad_0242ac1c0002row1_col11\" class=\"data row1 col11\" >0.175520</td>\n",
              "                        <td id=\"T_c9aa24a4_9e2e_11ea_9cad_0242ac1c0002row1_col12\" class=\"data row1 col12\" >-0.412995</td>\n",
              "            </tr>\n",
              "            <tr>\n",
              "                        <th id=\"T_c9aa24a4_9e2e_11ea_9cad_0242ac1c0002level0_row2\" class=\"row_heading level0 row2\" >INDUS</th>\n",
              "                        <td id=\"T_c9aa24a4_9e2e_11ea_9cad_0242ac1c0002row2_col0\" class=\"data row2 col0\" >0.406583</td>\n",
              "                        <td id=\"T_c9aa24a4_9e2e_11ea_9cad_0242ac1c0002row2_col1\" class=\"data row2 col1\" >-0.533828</td>\n",
              "                        <td id=\"T_c9aa24a4_9e2e_11ea_9cad_0242ac1c0002row2_col2\" class=\"data row2 col2\" >1.000000</td>\n",
              "                        <td id=\"T_c9aa24a4_9e2e_11ea_9cad_0242ac1c0002row2_col3\" class=\"data row2 col3\" >0.062938</td>\n",
              "                        <td id=\"T_c9aa24a4_9e2e_11ea_9cad_0242ac1c0002row2_col4\" class=\"data row2 col4\" >0.763651</td>\n",
              "                        <td id=\"T_c9aa24a4_9e2e_11ea_9cad_0242ac1c0002row2_col5\" class=\"data row2 col5\" >-0.391676</td>\n",
              "                        <td id=\"T_c9aa24a4_9e2e_11ea_9cad_0242ac1c0002row2_col6\" class=\"data row2 col6\" >0.644779</td>\n",
              "                        <td id=\"T_c9aa24a4_9e2e_11ea_9cad_0242ac1c0002row2_col7\" class=\"data row2 col7\" >-0.708027</td>\n",
              "                        <td id=\"T_c9aa24a4_9e2e_11ea_9cad_0242ac1c0002row2_col8\" class=\"data row2 col8\" >0.595129</td>\n",
              "                        <td id=\"T_c9aa24a4_9e2e_11ea_9cad_0242ac1c0002row2_col9\" class=\"data row2 col9\" >0.720760</td>\n",
              "                        <td id=\"T_c9aa24a4_9e2e_11ea_9cad_0242ac1c0002row2_col10\" class=\"data row2 col10\" >0.383248</td>\n",
              "                        <td id=\"T_c9aa24a4_9e2e_11ea_9cad_0242ac1c0002row2_col11\" class=\"data row2 col11\" >-0.356977</td>\n",
              "                        <td id=\"T_c9aa24a4_9e2e_11ea_9cad_0242ac1c0002row2_col12\" class=\"data row2 col12\" >0.603800</td>\n",
              "            </tr>\n",
              "            <tr>\n",
              "                        <th id=\"T_c9aa24a4_9e2e_11ea_9cad_0242ac1c0002level0_row3\" class=\"row_heading level0 row3\" >CHAS</th>\n",
              "                        <td id=\"T_c9aa24a4_9e2e_11ea_9cad_0242ac1c0002row3_col0\" class=\"data row3 col0\" >-0.055892</td>\n",
              "                        <td id=\"T_c9aa24a4_9e2e_11ea_9cad_0242ac1c0002row3_col1\" class=\"data row3 col1\" >-0.042697</td>\n",
              "                        <td id=\"T_c9aa24a4_9e2e_11ea_9cad_0242ac1c0002row3_col2\" class=\"data row3 col2\" >0.062938</td>\n",
              "                        <td id=\"T_c9aa24a4_9e2e_11ea_9cad_0242ac1c0002row3_col3\" class=\"data row3 col3\" >1.000000</td>\n",
              "                        <td id=\"T_c9aa24a4_9e2e_11ea_9cad_0242ac1c0002row3_col4\" class=\"data row3 col4\" >0.091203</td>\n",
              "                        <td id=\"T_c9aa24a4_9e2e_11ea_9cad_0242ac1c0002row3_col5\" class=\"data row3 col5\" >0.091251</td>\n",
              "                        <td id=\"T_c9aa24a4_9e2e_11ea_9cad_0242ac1c0002row3_col6\" class=\"data row3 col6\" >0.086518</td>\n",
              "                        <td id=\"T_c9aa24a4_9e2e_11ea_9cad_0242ac1c0002row3_col7\" class=\"data row3 col7\" >-0.099176</td>\n",
              "                        <td id=\"T_c9aa24a4_9e2e_11ea_9cad_0242ac1c0002row3_col8\" class=\"data row3 col8\" >-0.007368</td>\n",
              "                        <td id=\"T_c9aa24a4_9e2e_11ea_9cad_0242ac1c0002row3_col9\" class=\"data row3 col9\" >-0.035587</td>\n",
              "                        <td id=\"T_c9aa24a4_9e2e_11ea_9cad_0242ac1c0002row3_col10\" class=\"data row3 col10\" >-0.121515</td>\n",
              "                        <td id=\"T_c9aa24a4_9e2e_11ea_9cad_0242ac1c0002row3_col11\" class=\"data row3 col11\" >0.048788</td>\n",
              "                        <td id=\"T_c9aa24a4_9e2e_11ea_9cad_0242ac1c0002row3_col12\" class=\"data row3 col12\" >-0.053929</td>\n",
              "            </tr>\n",
              "            <tr>\n",
              "                        <th id=\"T_c9aa24a4_9e2e_11ea_9cad_0242ac1c0002level0_row4\" class=\"row_heading level0 row4\" >NOX</th>\n",
              "                        <td id=\"T_c9aa24a4_9e2e_11ea_9cad_0242ac1c0002row4_col0\" class=\"data row4 col0\" >0.420972</td>\n",
              "                        <td id=\"T_c9aa24a4_9e2e_11ea_9cad_0242ac1c0002row4_col1\" class=\"data row4 col1\" >-0.516604</td>\n",
              "                        <td id=\"T_c9aa24a4_9e2e_11ea_9cad_0242ac1c0002row4_col2\" class=\"data row4 col2\" >0.763651</td>\n",
              "                        <td id=\"T_c9aa24a4_9e2e_11ea_9cad_0242ac1c0002row4_col3\" class=\"data row4 col3\" >0.091203</td>\n",
              "                        <td id=\"T_c9aa24a4_9e2e_11ea_9cad_0242ac1c0002row4_col4\" class=\"data row4 col4\" >1.000000</td>\n",
              "                        <td id=\"T_c9aa24a4_9e2e_11ea_9cad_0242ac1c0002row4_col5\" class=\"data row4 col5\" >-0.302188</td>\n",
              "                        <td id=\"T_c9aa24a4_9e2e_11ea_9cad_0242ac1c0002row4_col6\" class=\"data row4 col6\" >0.731470</td>\n",
              "                        <td id=\"T_c9aa24a4_9e2e_11ea_9cad_0242ac1c0002row4_col7\" class=\"data row4 col7\" >-0.769230</td>\n",
              "                        <td id=\"T_c9aa24a4_9e2e_11ea_9cad_0242ac1c0002row4_col8\" class=\"data row4 col8\" >0.611441</td>\n",
              "                        <td id=\"T_c9aa24a4_9e2e_11ea_9cad_0242ac1c0002row4_col9\" class=\"data row4 col9\" >0.668023</td>\n",
              "                        <td id=\"T_c9aa24a4_9e2e_11ea_9cad_0242ac1c0002row4_col10\" class=\"data row4 col10\" >0.188933</td>\n",
              "                        <td id=\"T_c9aa24a4_9e2e_11ea_9cad_0242ac1c0002row4_col11\" class=\"data row4 col11\" >-0.380051</td>\n",
              "                        <td id=\"T_c9aa24a4_9e2e_11ea_9cad_0242ac1c0002row4_col12\" class=\"data row4 col12\" >0.590879</td>\n",
              "            </tr>\n",
              "            <tr>\n",
              "                        <th id=\"T_c9aa24a4_9e2e_11ea_9cad_0242ac1c0002level0_row5\" class=\"row_heading level0 row5\" >RM</th>\n",
              "                        <td id=\"T_c9aa24a4_9e2e_11ea_9cad_0242ac1c0002row5_col0\" class=\"data row5 col0\" >-0.219247</td>\n",
              "                        <td id=\"T_c9aa24a4_9e2e_11ea_9cad_0242ac1c0002row5_col1\" class=\"data row5 col1\" >0.311991</td>\n",
              "                        <td id=\"T_c9aa24a4_9e2e_11ea_9cad_0242ac1c0002row5_col2\" class=\"data row5 col2\" >-0.391676</td>\n",
              "                        <td id=\"T_c9aa24a4_9e2e_11ea_9cad_0242ac1c0002row5_col3\" class=\"data row5 col3\" >0.091251</td>\n",
              "                        <td id=\"T_c9aa24a4_9e2e_11ea_9cad_0242ac1c0002row5_col4\" class=\"data row5 col4\" >-0.302188</td>\n",
              "                        <td id=\"T_c9aa24a4_9e2e_11ea_9cad_0242ac1c0002row5_col5\" class=\"data row5 col5\" >1.000000</td>\n",
              "                        <td id=\"T_c9aa24a4_9e2e_11ea_9cad_0242ac1c0002row5_col6\" class=\"data row5 col6\" >-0.240265</td>\n",
              "                        <td id=\"T_c9aa24a4_9e2e_11ea_9cad_0242ac1c0002row5_col7\" class=\"data row5 col7\" >0.205246</td>\n",
              "                        <td id=\"T_c9aa24a4_9e2e_11ea_9cad_0242ac1c0002row5_col8\" class=\"data row5 col8\" >-0.209847</td>\n",
              "                        <td id=\"T_c9aa24a4_9e2e_11ea_9cad_0242ac1c0002row5_col9\" class=\"data row5 col9\" >-0.292048</td>\n",
              "                        <td id=\"T_c9aa24a4_9e2e_11ea_9cad_0242ac1c0002row5_col10\" class=\"data row5 col10\" >-0.355501</td>\n",
              "                        <td id=\"T_c9aa24a4_9e2e_11ea_9cad_0242ac1c0002row5_col11\" class=\"data row5 col11\" >0.128069</td>\n",
              "                        <td id=\"T_c9aa24a4_9e2e_11ea_9cad_0242ac1c0002row5_col12\" class=\"data row5 col12\" >-0.613808</td>\n",
              "            </tr>\n",
              "            <tr>\n",
              "                        <th id=\"T_c9aa24a4_9e2e_11ea_9cad_0242ac1c0002level0_row6\" class=\"row_heading level0 row6\" >AGE</th>\n",
              "                        <td id=\"T_c9aa24a4_9e2e_11ea_9cad_0242ac1c0002row6_col0\" class=\"data row6 col0\" >0.352734</td>\n",
              "                        <td id=\"T_c9aa24a4_9e2e_11ea_9cad_0242ac1c0002row6_col1\" class=\"data row6 col1\" >-0.569537</td>\n",
              "                        <td id=\"T_c9aa24a4_9e2e_11ea_9cad_0242ac1c0002row6_col2\" class=\"data row6 col2\" >0.644779</td>\n",
              "                        <td id=\"T_c9aa24a4_9e2e_11ea_9cad_0242ac1c0002row6_col3\" class=\"data row6 col3\" >0.086518</td>\n",
              "                        <td id=\"T_c9aa24a4_9e2e_11ea_9cad_0242ac1c0002row6_col4\" class=\"data row6 col4\" >0.731470</td>\n",
              "                        <td id=\"T_c9aa24a4_9e2e_11ea_9cad_0242ac1c0002row6_col5\" class=\"data row6 col5\" >-0.240265</td>\n",
              "                        <td id=\"T_c9aa24a4_9e2e_11ea_9cad_0242ac1c0002row6_col6\" class=\"data row6 col6\" >1.000000</td>\n",
              "                        <td id=\"T_c9aa24a4_9e2e_11ea_9cad_0242ac1c0002row6_col7\" class=\"data row6 col7\" >-0.747881</td>\n",
              "                        <td id=\"T_c9aa24a4_9e2e_11ea_9cad_0242ac1c0002row6_col8\" class=\"data row6 col8\" >0.456022</td>\n",
              "                        <td id=\"T_c9aa24a4_9e2e_11ea_9cad_0242ac1c0002row6_col9\" class=\"data row6 col9\" >0.506456</td>\n",
              "                        <td id=\"T_c9aa24a4_9e2e_11ea_9cad_0242ac1c0002row6_col10\" class=\"data row6 col10\" >0.261515</td>\n",
              "                        <td id=\"T_c9aa24a4_9e2e_11ea_9cad_0242ac1c0002row6_col11\" class=\"data row6 col11\" >-0.273534</td>\n",
              "                        <td id=\"T_c9aa24a4_9e2e_11ea_9cad_0242ac1c0002row6_col12\" class=\"data row6 col12\" >0.602339</td>\n",
              "            </tr>\n",
              "            <tr>\n",
              "                        <th id=\"T_c9aa24a4_9e2e_11ea_9cad_0242ac1c0002level0_row7\" class=\"row_heading level0 row7\" >DIS</th>\n",
              "                        <td id=\"T_c9aa24a4_9e2e_11ea_9cad_0242ac1c0002row7_col0\" class=\"data row7 col0\" >-0.379670</td>\n",
              "                        <td id=\"T_c9aa24a4_9e2e_11ea_9cad_0242ac1c0002row7_col1\" class=\"data row7 col1\" >0.664408</td>\n",
              "                        <td id=\"T_c9aa24a4_9e2e_11ea_9cad_0242ac1c0002row7_col2\" class=\"data row7 col2\" >-0.708027</td>\n",
              "                        <td id=\"T_c9aa24a4_9e2e_11ea_9cad_0242ac1c0002row7_col3\" class=\"data row7 col3\" >-0.099176</td>\n",
              "                        <td id=\"T_c9aa24a4_9e2e_11ea_9cad_0242ac1c0002row7_col4\" class=\"data row7 col4\" >-0.769230</td>\n",
              "                        <td id=\"T_c9aa24a4_9e2e_11ea_9cad_0242ac1c0002row7_col5\" class=\"data row7 col5\" >0.205246</td>\n",
              "                        <td id=\"T_c9aa24a4_9e2e_11ea_9cad_0242ac1c0002row7_col6\" class=\"data row7 col6\" >-0.747881</td>\n",
              "                        <td id=\"T_c9aa24a4_9e2e_11ea_9cad_0242ac1c0002row7_col7\" class=\"data row7 col7\" >1.000000</td>\n",
              "                        <td id=\"T_c9aa24a4_9e2e_11ea_9cad_0242ac1c0002row7_col8\" class=\"data row7 col8\" >-0.494588</td>\n",
              "                        <td id=\"T_c9aa24a4_9e2e_11ea_9cad_0242ac1c0002row7_col9\" class=\"data row7 col9\" >-0.534432</td>\n",
              "                        <td id=\"T_c9aa24a4_9e2e_11ea_9cad_0242ac1c0002row7_col10\" class=\"data row7 col10\" >-0.232471</td>\n",
              "                        <td id=\"T_c9aa24a4_9e2e_11ea_9cad_0242ac1c0002row7_col11\" class=\"data row7 col11\" >0.291512</td>\n",
              "                        <td id=\"T_c9aa24a4_9e2e_11ea_9cad_0242ac1c0002row7_col12\" class=\"data row7 col12\" >-0.496996</td>\n",
              "            </tr>\n",
              "            <tr>\n",
              "                        <th id=\"T_c9aa24a4_9e2e_11ea_9cad_0242ac1c0002level0_row8\" class=\"row_heading level0 row8\" >RAD</th>\n",
              "                        <td id=\"T_c9aa24a4_9e2e_11ea_9cad_0242ac1c0002row8_col0\" class=\"data row8 col0\" >0.625505</td>\n",
              "                        <td id=\"T_c9aa24a4_9e2e_11ea_9cad_0242ac1c0002row8_col1\" class=\"data row8 col1\" >-0.311948</td>\n",
              "                        <td id=\"T_c9aa24a4_9e2e_11ea_9cad_0242ac1c0002row8_col2\" class=\"data row8 col2\" >0.595129</td>\n",
              "                        <td id=\"T_c9aa24a4_9e2e_11ea_9cad_0242ac1c0002row8_col3\" class=\"data row8 col3\" >-0.007368</td>\n",
              "                        <td id=\"T_c9aa24a4_9e2e_11ea_9cad_0242ac1c0002row8_col4\" class=\"data row8 col4\" >0.611441</td>\n",
              "                        <td id=\"T_c9aa24a4_9e2e_11ea_9cad_0242ac1c0002row8_col5\" class=\"data row8 col5\" >-0.209847</td>\n",
              "                        <td id=\"T_c9aa24a4_9e2e_11ea_9cad_0242ac1c0002row8_col6\" class=\"data row8 col6\" >0.456022</td>\n",
              "                        <td id=\"T_c9aa24a4_9e2e_11ea_9cad_0242ac1c0002row8_col7\" class=\"data row8 col7\" >-0.494588</td>\n",
              "                        <td id=\"T_c9aa24a4_9e2e_11ea_9cad_0242ac1c0002row8_col8\" class=\"data row8 col8\" >1.000000</td>\n",
              "                        <td id=\"T_c9aa24a4_9e2e_11ea_9cad_0242ac1c0002row8_col9\" class=\"data row8 col9\" >0.910228</td>\n",
              "                        <td id=\"T_c9aa24a4_9e2e_11ea_9cad_0242ac1c0002row8_col10\" class=\"data row8 col10\" >0.464741</td>\n",
              "                        <td id=\"T_c9aa24a4_9e2e_11ea_9cad_0242ac1c0002row8_col11\" class=\"data row8 col11\" >-0.444413</td>\n",
              "                        <td id=\"T_c9aa24a4_9e2e_11ea_9cad_0242ac1c0002row8_col12\" class=\"data row8 col12\" >0.488676</td>\n",
              "            </tr>\n",
              "            <tr>\n",
              "                        <th id=\"T_c9aa24a4_9e2e_11ea_9cad_0242ac1c0002level0_row9\" class=\"row_heading level0 row9\" >TAX</th>\n",
              "                        <td id=\"T_c9aa24a4_9e2e_11ea_9cad_0242ac1c0002row9_col0\" class=\"data row9 col0\" >0.582764</td>\n",
              "                        <td id=\"T_c9aa24a4_9e2e_11ea_9cad_0242ac1c0002row9_col1\" class=\"data row9 col1\" >-0.314563</td>\n",
              "                        <td id=\"T_c9aa24a4_9e2e_11ea_9cad_0242ac1c0002row9_col2\" class=\"data row9 col2\" >0.720760</td>\n",
              "                        <td id=\"T_c9aa24a4_9e2e_11ea_9cad_0242ac1c0002row9_col3\" class=\"data row9 col3\" >-0.035587</td>\n",
              "                        <td id=\"T_c9aa24a4_9e2e_11ea_9cad_0242ac1c0002row9_col4\" class=\"data row9 col4\" >0.668023</td>\n",
              "                        <td id=\"T_c9aa24a4_9e2e_11ea_9cad_0242ac1c0002row9_col5\" class=\"data row9 col5\" >-0.292048</td>\n",
              "                        <td id=\"T_c9aa24a4_9e2e_11ea_9cad_0242ac1c0002row9_col6\" class=\"data row9 col6\" >0.506456</td>\n",
              "                        <td id=\"T_c9aa24a4_9e2e_11ea_9cad_0242ac1c0002row9_col7\" class=\"data row9 col7\" >-0.534432</td>\n",
              "                        <td id=\"T_c9aa24a4_9e2e_11ea_9cad_0242ac1c0002row9_col8\" class=\"data row9 col8\" >0.910228</td>\n",
              "                        <td id=\"T_c9aa24a4_9e2e_11ea_9cad_0242ac1c0002row9_col9\" class=\"data row9 col9\" >1.000000</td>\n",
              "                        <td id=\"T_c9aa24a4_9e2e_11ea_9cad_0242ac1c0002row9_col10\" class=\"data row9 col10\" >0.460853</td>\n",
              "                        <td id=\"T_c9aa24a4_9e2e_11ea_9cad_0242ac1c0002row9_col11\" class=\"data row9 col11\" >-0.441808</td>\n",
              "                        <td id=\"T_c9aa24a4_9e2e_11ea_9cad_0242ac1c0002row9_col12\" class=\"data row9 col12\" >0.543993</td>\n",
              "            </tr>\n",
              "            <tr>\n",
              "                        <th id=\"T_c9aa24a4_9e2e_11ea_9cad_0242ac1c0002level0_row10\" class=\"row_heading level0 row10\" >PTRATIO</th>\n",
              "                        <td id=\"T_c9aa24a4_9e2e_11ea_9cad_0242ac1c0002row10_col0\" class=\"data row10 col0\" >0.289946</td>\n",
              "                        <td id=\"T_c9aa24a4_9e2e_11ea_9cad_0242ac1c0002row10_col1\" class=\"data row10 col1\" >-0.391679</td>\n",
              "                        <td id=\"T_c9aa24a4_9e2e_11ea_9cad_0242ac1c0002row10_col2\" class=\"data row10 col2\" >0.383248</td>\n",
              "                        <td id=\"T_c9aa24a4_9e2e_11ea_9cad_0242ac1c0002row10_col3\" class=\"data row10 col3\" >-0.121515</td>\n",
              "                        <td id=\"T_c9aa24a4_9e2e_11ea_9cad_0242ac1c0002row10_col4\" class=\"data row10 col4\" >0.188933</td>\n",
              "                        <td id=\"T_c9aa24a4_9e2e_11ea_9cad_0242ac1c0002row10_col5\" class=\"data row10 col5\" >-0.355501</td>\n",
              "                        <td id=\"T_c9aa24a4_9e2e_11ea_9cad_0242ac1c0002row10_col6\" class=\"data row10 col6\" >0.261515</td>\n",
              "                        <td id=\"T_c9aa24a4_9e2e_11ea_9cad_0242ac1c0002row10_col7\" class=\"data row10 col7\" >-0.232471</td>\n",
              "                        <td id=\"T_c9aa24a4_9e2e_11ea_9cad_0242ac1c0002row10_col8\" class=\"data row10 col8\" >0.464741</td>\n",
              "                        <td id=\"T_c9aa24a4_9e2e_11ea_9cad_0242ac1c0002row10_col9\" class=\"data row10 col9\" >0.460853</td>\n",
              "                        <td id=\"T_c9aa24a4_9e2e_11ea_9cad_0242ac1c0002row10_col10\" class=\"data row10 col10\" >1.000000</td>\n",
              "                        <td id=\"T_c9aa24a4_9e2e_11ea_9cad_0242ac1c0002row10_col11\" class=\"data row10 col11\" >-0.177383</td>\n",
              "                        <td id=\"T_c9aa24a4_9e2e_11ea_9cad_0242ac1c0002row10_col12\" class=\"data row10 col12\" >0.374044</td>\n",
              "            </tr>\n",
              "            <tr>\n",
              "                        <th id=\"T_c9aa24a4_9e2e_11ea_9cad_0242ac1c0002level0_row11\" class=\"row_heading level0 row11\" >B</th>\n",
              "                        <td id=\"T_c9aa24a4_9e2e_11ea_9cad_0242ac1c0002row11_col0\" class=\"data row11 col0\" >-0.385064</td>\n",
              "                        <td id=\"T_c9aa24a4_9e2e_11ea_9cad_0242ac1c0002row11_col1\" class=\"data row11 col1\" >0.175520</td>\n",
              "                        <td id=\"T_c9aa24a4_9e2e_11ea_9cad_0242ac1c0002row11_col2\" class=\"data row11 col2\" >-0.356977</td>\n",
              "                        <td id=\"T_c9aa24a4_9e2e_11ea_9cad_0242ac1c0002row11_col3\" class=\"data row11 col3\" >0.048788</td>\n",
              "                        <td id=\"T_c9aa24a4_9e2e_11ea_9cad_0242ac1c0002row11_col4\" class=\"data row11 col4\" >-0.380051</td>\n",
              "                        <td id=\"T_c9aa24a4_9e2e_11ea_9cad_0242ac1c0002row11_col5\" class=\"data row11 col5\" >0.128069</td>\n",
              "                        <td id=\"T_c9aa24a4_9e2e_11ea_9cad_0242ac1c0002row11_col6\" class=\"data row11 col6\" >-0.273534</td>\n",
              "                        <td id=\"T_c9aa24a4_9e2e_11ea_9cad_0242ac1c0002row11_col7\" class=\"data row11 col7\" >0.291512</td>\n",
              "                        <td id=\"T_c9aa24a4_9e2e_11ea_9cad_0242ac1c0002row11_col8\" class=\"data row11 col8\" >-0.444413</td>\n",
              "                        <td id=\"T_c9aa24a4_9e2e_11ea_9cad_0242ac1c0002row11_col9\" class=\"data row11 col9\" >-0.441808</td>\n",
              "                        <td id=\"T_c9aa24a4_9e2e_11ea_9cad_0242ac1c0002row11_col10\" class=\"data row11 col10\" >-0.177383</td>\n",
              "                        <td id=\"T_c9aa24a4_9e2e_11ea_9cad_0242ac1c0002row11_col11\" class=\"data row11 col11\" >1.000000</td>\n",
              "                        <td id=\"T_c9aa24a4_9e2e_11ea_9cad_0242ac1c0002row11_col12\" class=\"data row11 col12\" >-0.366087</td>\n",
              "            </tr>\n",
              "            <tr>\n",
              "                        <th id=\"T_c9aa24a4_9e2e_11ea_9cad_0242ac1c0002level0_row12\" class=\"row_heading level0 row12\" >LSTAT</th>\n",
              "                        <td id=\"T_c9aa24a4_9e2e_11ea_9cad_0242ac1c0002row12_col0\" class=\"data row12 col0\" >0.455621</td>\n",
              "                        <td id=\"T_c9aa24a4_9e2e_11ea_9cad_0242ac1c0002row12_col1\" class=\"data row12 col1\" >-0.412995</td>\n",
              "                        <td id=\"T_c9aa24a4_9e2e_11ea_9cad_0242ac1c0002row12_col2\" class=\"data row12 col2\" >0.603800</td>\n",
              "                        <td id=\"T_c9aa24a4_9e2e_11ea_9cad_0242ac1c0002row12_col3\" class=\"data row12 col3\" >-0.053929</td>\n",
              "                        <td id=\"T_c9aa24a4_9e2e_11ea_9cad_0242ac1c0002row12_col4\" class=\"data row12 col4\" >0.590879</td>\n",
              "                        <td id=\"T_c9aa24a4_9e2e_11ea_9cad_0242ac1c0002row12_col5\" class=\"data row12 col5\" >-0.613808</td>\n",
              "                        <td id=\"T_c9aa24a4_9e2e_11ea_9cad_0242ac1c0002row12_col6\" class=\"data row12 col6\" >0.602339</td>\n",
              "                        <td id=\"T_c9aa24a4_9e2e_11ea_9cad_0242ac1c0002row12_col7\" class=\"data row12 col7\" >-0.496996</td>\n",
              "                        <td id=\"T_c9aa24a4_9e2e_11ea_9cad_0242ac1c0002row12_col8\" class=\"data row12 col8\" >0.488676</td>\n",
              "                        <td id=\"T_c9aa24a4_9e2e_11ea_9cad_0242ac1c0002row12_col9\" class=\"data row12 col9\" >0.543993</td>\n",
              "                        <td id=\"T_c9aa24a4_9e2e_11ea_9cad_0242ac1c0002row12_col10\" class=\"data row12 col10\" >0.374044</td>\n",
              "                        <td id=\"T_c9aa24a4_9e2e_11ea_9cad_0242ac1c0002row12_col11\" class=\"data row12 col11\" >-0.366087</td>\n",
              "                        <td id=\"T_c9aa24a4_9e2e_11ea_9cad_0242ac1c0002row12_col12\" class=\"data row12 col12\" >1.000000</td>\n",
              "            </tr>\n",
              "    </tbody></table>"
            ],
            "text/plain": [
              "<pandas.io.formats.style.Styler at 0x7f50ec024208>"
            ]
          },
          "metadata": {
            "tags": []
          },
          "execution_count": 15
        }
      ]
    },
    {
      "cell_type": "markdown",
      "metadata": {
        "id": "V9nQccQNpRnm",
        "colab_type": "text"
      },
      "source": [
        "4.There is little or no AutoCorrelation"
      ]
    },
    {
      "cell_type": "code",
      "metadata": {
        "id": "PX8rcvBWozSt",
        "colab_type": "code",
        "colab": {}
      },
      "source": [
        ""
      ],
      "execution_count": 0,
      "outputs": []
    },
    {
      "cell_type": "code",
      "metadata": {
        "id": "_fF5fHqxp-w_",
        "colab_type": "code",
        "colab": {}
      },
      "source": [
        ""
      ],
      "execution_count": 0,
      "outputs": []
    },
    {
      "cell_type": "code",
      "metadata": {
        "id": "m13yDUZPp-4S",
        "colab_type": "code",
        "colab": {}
      },
      "source": [
        "import numpy as np\n",
        "import pandas as pd\n",
        "import matplotlib.pyplot as plt\n",
        "import seaborn as sns\n",
        "from sklearn import datasets\n",
        "%matplotlib inline\n"
      ],
      "execution_count": 0,
      "outputs": []
    },
    {
      "cell_type": "code",
      "metadata": {
        "id": "FAAVrk-_p-1W",
        "colab_type": "code",
        "colab": {}
      },
      "source": [
        "\n",
        "\"\"\"\n",
        "Real-world data of Boston housing prices\n",
        "Additional Documentation: https://www.cs.toronto.edu/~delve/data/boston/bostonDetail.html\n",
        "\n",
        "Attributes:\n",
        "data: Features/predictors\n",
        "label: Target/label/response variable\n",
        "feature_names: Abbreviations of names of features\n",
        "\"\"\"\n",
        "boston = datasets.load_boston()"
      ],
      "execution_count": 0,
      "outputs": []
    },
    {
      "cell_type": "code",
      "metadata": {
        "id": "R8XdYk40p-uQ",
        "colab_type": "code",
        "colab": {}
      },
      "source": [
        "\n",
        "\"\"\"\n",
        "Artificial linear data using the same number of features and observations as the\n",
        "Boston housing prices dataset for assumption test comparison\n",
        "\"\"\"\n",
        "linear_X, linear_y = datasets.make_regression(n_samples=boston.data.shape[0],\n",
        "                                              n_features=boston.data.shape[1],\n",
        "                                              noise=75, random_state=46)\n",
        "\n",
        "# Setting feature names to x1, x2, x3, etc. if they are not defined\n",
        "linear_feature_names = ['X'+str(feature+1) for feature in range(linear_X.shape[1])]"
      ],
      "execution_count": 0,
      "outputs": []
    },
    {
      "cell_type": "code",
      "metadata": {
        "id": "iZhu17Bop-rI",
        "colab_type": "code",
        "colab": {
          "base_uri": "https://localhost:8080/",
          "height": 204
        },
        "outputId": "58526b5f-cf3c-42fc-ac1c-60fe17acb83e"
      },
      "source": [
        "df = pd.DataFrame(boston.data, columns=boston.feature_names)\n",
        "df['HousePrice'] = boston.target\n",
        "\n",
        "df.head()"
      ],
      "execution_count": 20,
      "outputs": [
        {
          "output_type": "execute_result",
          "data": {
            "text/html": [
              "<div>\n",
              "<style scoped>\n",
              "    .dataframe tbody tr th:only-of-type {\n",
              "        vertical-align: middle;\n",
              "    }\n",
              "\n",
              "    .dataframe tbody tr th {\n",
              "        vertical-align: top;\n",
              "    }\n",
              "\n",
              "    .dataframe thead th {\n",
              "        text-align: right;\n",
              "    }\n",
              "</style>\n",
              "<table border=\"1\" class=\"dataframe\">\n",
              "  <thead>\n",
              "    <tr style=\"text-align: right;\">\n",
              "      <th></th>\n",
              "      <th>CRIM</th>\n",
              "      <th>ZN</th>\n",
              "      <th>INDUS</th>\n",
              "      <th>CHAS</th>\n",
              "      <th>NOX</th>\n",
              "      <th>RM</th>\n",
              "      <th>AGE</th>\n",
              "      <th>DIS</th>\n",
              "      <th>RAD</th>\n",
              "      <th>TAX</th>\n",
              "      <th>PTRATIO</th>\n",
              "      <th>B</th>\n",
              "      <th>LSTAT</th>\n",
              "      <th>HousePrice</th>\n",
              "    </tr>\n",
              "  </thead>\n",
              "  <tbody>\n",
              "    <tr>\n",
              "      <th>0</th>\n",
              "      <td>0.00632</td>\n",
              "      <td>18.0</td>\n",
              "      <td>2.31</td>\n",
              "      <td>0.0</td>\n",
              "      <td>0.538</td>\n",
              "      <td>6.575</td>\n",
              "      <td>65.2</td>\n",
              "      <td>4.0900</td>\n",
              "      <td>1.0</td>\n",
              "      <td>296.0</td>\n",
              "      <td>15.3</td>\n",
              "      <td>396.90</td>\n",
              "      <td>4.98</td>\n",
              "      <td>24.0</td>\n",
              "    </tr>\n",
              "    <tr>\n",
              "      <th>1</th>\n",
              "      <td>0.02731</td>\n",
              "      <td>0.0</td>\n",
              "      <td>7.07</td>\n",
              "      <td>0.0</td>\n",
              "      <td>0.469</td>\n",
              "      <td>6.421</td>\n",
              "      <td>78.9</td>\n",
              "      <td>4.9671</td>\n",
              "      <td>2.0</td>\n",
              "      <td>242.0</td>\n",
              "      <td>17.8</td>\n",
              "      <td>396.90</td>\n",
              "      <td>9.14</td>\n",
              "      <td>21.6</td>\n",
              "    </tr>\n",
              "    <tr>\n",
              "      <th>2</th>\n",
              "      <td>0.02729</td>\n",
              "      <td>0.0</td>\n",
              "      <td>7.07</td>\n",
              "      <td>0.0</td>\n",
              "      <td>0.469</td>\n",
              "      <td>7.185</td>\n",
              "      <td>61.1</td>\n",
              "      <td>4.9671</td>\n",
              "      <td>2.0</td>\n",
              "      <td>242.0</td>\n",
              "      <td>17.8</td>\n",
              "      <td>392.83</td>\n",
              "      <td>4.03</td>\n",
              "      <td>34.7</td>\n",
              "    </tr>\n",
              "    <tr>\n",
              "      <th>3</th>\n",
              "      <td>0.03237</td>\n",
              "      <td>0.0</td>\n",
              "      <td>2.18</td>\n",
              "      <td>0.0</td>\n",
              "      <td>0.458</td>\n",
              "      <td>6.998</td>\n",
              "      <td>45.8</td>\n",
              "      <td>6.0622</td>\n",
              "      <td>3.0</td>\n",
              "      <td>222.0</td>\n",
              "      <td>18.7</td>\n",
              "      <td>394.63</td>\n",
              "      <td>2.94</td>\n",
              "      <td>33.4</td>\n",
              "    </tr>\n",
              "    <tr>\n",
              "      <th>4</th>\n",
              "      <td>0.06905</td>\n",
              "      <td>0.0</td>\n",
              "      <td>2.18</td>\n",
              "      <td>0.0</td>\n",
              "      <td>0.458</td>\n",
              "      <td>7.147</td>\n",
              "      <td>54.2</td>\n",
              "      <td>6.0622</td>\n",
              "      <td>3.0</td>\n",
              "      <td>222.0</td>\n",
              "      <td>18.7</td>\n",
              "      <td>396.90</td>\n",
              "      <td>5.33</td>\n",
              "      <td>36.2</td>\n",
              "    </tr>\n",
              "  </tbody>\n",
              "</table>\n",
              "</div>"
            ],
            "text/plain": [
              "      CRIM    ZN  INDUS  CHAS    NOX  ...    TAX  PTRATIO       B  LSTAT  HousePrice\n",
              "0  0.00632  18.0   2.31   0.0  0.538  ...  296.0     15.3  396.90   4.98        24.0\n",
              "1  0.02731   0.0   7.07   0.0  0.469  ...  242.0     17.8  396.90   9.14        21.6\n",
              "2  0.02729   0.0   7.07   0.0  0.469  ...  242.0     17.8  392.83   4.03        34.7\n",
              "3  0.03237   0.0   2.18   0.0  0.458  ...  222.0     18.7  394.63   2.94        33.4\n",
              "4  0.06905   0.0   2.18   0.0  0.458  ...  222.0     18.7  396.90   5.33        36.2\n",
              "\n",
              "[5 rows x 14 columns]"
            ]
          },
          "metadata": {
            "tags": []
          },
          "execution_count": 20
        }
      ]
    },
    {
      "cell_type": "markdown",
      "metadata": {
        "id": "G1RchrIrqXIl",
        "colab_type": "text"
      },
      "source": [
        "Additionally, a few of the tests use residuals, so we’ll write a quick function to calculate residuals. These are also calculated once in the master function at the bottom of the page, but this extra function is to adhere to DRY typing for the individual tests that use residuals."
      ]
    },
    {
      "cell_type": "code",
      "metadata": {
        "id": "GlsnudLIqGU7",
        "colab_type": "code",
        "colab": {
          "base_uri": "https://localhost:8080/",
          "height": 34
        },
        "outputId": "4e5ebf6f-e429-4098-dbdb-89e5f042c433"
      },
      "source": [
        "from  sklearn.linear_model import LinearRegression\n",
        "\n",
        "# Fitting the model\n",
        "boston_model = LinearRegression()\n",
        "boston_model.fit(boston.data, boston.target)\n",
        "\n",
        "# Returning the R^2 for the model\n",
        "boston_r2 = boston_model.score(boston.data, boston.target)\n",
        "print('R^2: {0}'.format(boston_r2))"
      ],
      "execution_count": 22,
      "outputs": [
        {
          "output_type": "stream",
          "text": [
            "R^2: 0.7406426641094095\n"
          ],
          "name": "stdout"
        }
      ]
    },
    {
      "cell_type": "code",
      "metadata": {
        "id": "SJgya-rTqGnk",
        "colab_type": "code",
        "colab": {
          "base_uri": "https://localhost:8080/",
          "height": 34
        },
        "outputId": "09070b15-e3f4-4d77-b833-d3ac44da700f"
      },
      "source": [
        "# Fitting the model\n",
        "linear_model = LinearRegression()\n",
        "linear_model.fit(linear_X, linear_y)\n",
        "\n",
        "# Returning the R^2 for the model\n",
        "linear_r2 = linear_model.score(linear_X, linear_y)\n",
        "print('R^2: {0}'.format(linear_r2))\n"
      ],
      "execution_count": 23,
      "outputs": [
        {
          "output_type": "stream",
          "text": [
            "R^2: 0.873743725796525\n"
          ],
          "name": "stdout"
        }
      ]
    },
    {
      "cell_type": "markdown",
      "metadata": {
        "id": "7fmfe0OgqsnJ",
        "colab_type": "text"
      },
      "source": [
        ""
      ]
    },
    {
      "cell_type": "code",
      "metadata": {
        "id": "zdcbp8D-qGkg",
        "colab_type": "code",
        "colab": {}
      },
      "source": [
        "def calculate_residuals(model, features, label):\n",
        "    \"\"\"\n",
        "    Creates predictions on the features with the model and calculates residuals\n",
        "    \"\"\"\n",
        "    predictions = model.predict(features)\n",
        "    df_results = pd.DataFrame({'Actual': label, 'Predicted': predictions})\n",
        "    df_results['Residuals'] = abs(df_results['Actual']) - abs(df_results['Predicted'])\n",
        "    \n",
        "    return df_results"
      ],
      "execution_count": 0,
      "outputs": []
    },
    {
      "cell_type": "markdown",
      "metadata": {
        "id": "8DVy4CjYquiZ",
        "colab_type": "text"
      },
      "source": [
        "We’re all set, so onto the assumption testing!\n",
        "\n"
      ]
    },
    {
      "cell_type": "code",
      "metadata": {
        "id": "RoFnfNoPqGiC",
        "colab_type": "code",
        "colab": {}
      },
      "source": [
        ""
      ],
      "execution_count": 0,
      "outputs": []
    },
    {
      "cell_type": "markdown",
      "metadata": {
        "id": "mCd8W-i2tWBx",
        "colab_type": "text"
      },
      "source": [
        "1.Linearity Test"
      ]
    },
    {
      "cell_type": "code",
      "metadata": {
        "id": "jWa4hrb3qGem",
        "colab_type": "code",
        "colab": {}
      },
      "source": [
        "def linear_assumption(model, features, label):\n",
        "    \"\"\"\n",
        "    Linearity: Assumes that there is a linear relationship between the predictors and\n",
        "               the response variable. If not, either a quadratic term or another\n",
        "               algorithm should be used.\n",
        "    \"\"\"\n",
        "    print('Assumption 1: Linear Relationship between the Target and the Feature', '\\n')\n",
        "        \n",
        "    print('Checking with a scatter plot of actual vs. predicted.',\n",
        "           'Predictions should follow the diagonal line.')\n",
        "    \n",
        "    # Calculating residuals for the plot\n",
        "    df_results = calculate_residuals(model, features, label)\n",
        "    \n",
        "    # Plotting the actual vs predicted values\n",
        "    sns.lmplot(x='Actual', y='Predicted', data=df_results, fit_reg=False, size=7)\n",
        "        \n",
        "    # Plotting the diagonal line\n",
        "    line_coords = np.arange(df_results.min().min(), df_results.max().max())\n",
        "    plt.plot(line_coords, line_coords,  # X and y points\n",
        "             color='darkorange', linestyle='--')\n",
        "    plt.title('Actual vs. Predicted')\n",
        "    plt.show()"
      ],
      "execution_count": 0,
      "outputs": []
    },
    {
      "cell_type": "code",
      "metadata": {
        "id": "KLokhYBPp-oq",
        "colab_type": "code",
        "colab": {
          "base_uri": "https://localhost:8080/",
          "height": 614
        },
        "outputId": "1c7b59ce-d534-4068-bb87-e460e30f14da"
      },
      "source": [
        "linear_assumption(linear_model, linear_X, linear_y)\n"
      ],
      "execution_count": 26,
      "outputs": [
        {
          "output_type": "stream",
          "text": [
            "Assumption 1: Linear Relationship between the Target and the Feature \n",
            "\n",
            "Checking with a scatter plot of actual vs. predicted. Predictions should follow the diagonal line.\n"
          ],
          "name": "stdout"
        },
        {
          "output_type": "stream",
          "text": [
            "/usr/local/lib/python3.6/dist-packages/seaborn/regression.py:573: UserWarning: The `size` parameter has been renamed to `height`; please update your code.\n",
            "  warnings.warn(msg, UserWarning)\n"
          ],
          "name": "stderr"
        },
        {
          "output_type": "display_data",
          "data": {
            "image/png": "[encoded data removed]",
            "text/plain": [
              "<Figure size 504x504 with 1 Axes>"
            ]
          },
          "metadata": {
            "tags": [],
            "needs_background": "light"
          }
        }
      ]
    },
    {
      "cell_type": "code",
      "metadata": {
        "id": "Wh3t6nVxp-mW",
        "colab_type": "code",
        "colab": {
          "base_uri": "https://localhost:8080/",
          "height": 614
        },
        "outputId": "eee86c69-9233-48eb-e6c4-46c269c353ac"
      },
      "source": [
        "linear_assumption(boston_model, boston.data, boston.target)\n"
      ],
      "execution_count": 27,
      "outputs": [
        {
          "output_type": "stream",
          "text": [
            "Assumption 1: Linear Relationship between the Target and the Feature \n",
            "\n",
            "Checking with a scatter plot of actual vs. predicted. Predictions should follow the diagonal line.\n"
          ],
          "name": "stdout"
        },
        {
          "output_type": "stream",
          "text": [
            "/usr/local/lib/python3.6/dist-packages/seaborn/regression.py:573: UserWarning: The `size` parameter has been renamed to `height`; please update your code.\n",
            "  warnings.warn(msg, UserWarning)\n"
          ],
          "name": "stderr"
        },
        {
          "output_type": "display_data",
          "data": {
            "image/png": "[encoded data removed]",
            "text/plain": [
              "<Figure size 504x504 with 1 Axes>"
            ]
          },
          "metadata": {
            "tags": [],
            "needs_background": "light"
          }
        }
      ]
    },
    {
      "cell_type": "markdown",
      "metadata": {
        "id": "idq7v8QGt3Sk",
        "colab_type": "text"
      },
      "source": [
        "We can see in this case that there is not a perfect linear relationship. Our predictions are biased towards lower values in both the lower end (around 5-10) and especially at the higher values (above 40)."
      ]
    },
    {
      "cell_type": "markdown",
      "metadata": {
        "id": "mRzaIWaTt6j1",
        "colab_type": "text"
      },
      "source": [
        "II) Normality of the Error Terms"
      ]
    },
    {
      "cell_type": "code",
      "metadata": {
        "id": "TwW7wvi4p-jE",
        "colab_type": "code",
        "colab": {}
      },
      "source": [
        "def normal_errors_assumption(model, features, label, p_value_thresh=0.05):\n",
        "    \"\"\"\n",
        "    Normality: Assumes that the error terms are normally distributed. If they are not,\n",
        "    nonlinear transformations of variables may solve this.\n",
        "               \n",
        "    This assumption being violated primarily causes issues with the confidence intervals\n",
        "    \"\"\"\n",
        "    from statsmodels.stats.diagnostic import normal_ad\n",
        "    print('Assumption 2: The error terms are normally distributed', '\\n')\n",
        "    \n",
        "    # Calculating residuals for the Anderson-Darling test\n",
        "    df_results = calculate_residuals(model, features, label)\n",
        "    \n",
        "    print('Using the Anderson-Darling test for normal distribution')\n",
        "\n",
        "    # Performing the test on the residuals\n",
        "    p_value = normal_ad(df_results['Residuals'])[1]\n",
        "    print('p-value from the test - below 0.05 generally means non-normal:', p_value)\n",
        "    \n",
        "    # Reporting the normality of the residuals\n",
        "    if p_value < p_value_thresh:\n",
        "        print('Residuals are not normally distributed')\n",
        "    else:\n",
        "        print('Residuals are normally distributed')\n",
        "    \n",
        "    # Plotting the residuals distribution\n",
        "    plt.subplots(figsize=(12, 6))\n",
        "    plt.title('Distribution of Residuals')\n",
        "    sns.distplot(df_results['Residuals'])\n",
        "    plt.show()\n",
        "    \n",
        "    print()\n",
        "    if p_value > p_value_thresh:\n",
        "        print('Assumption satisfied')\n",
        "    else:\n",
        "        print('Assumption not satisfied')\n",
        "        print()\n",
        "        print('Confidence intervals will likely be affected')\n",
        "        print('Try performing nonlinear transformations on variables')"
      ],
      "execution_count": 0,
      "outputs": []
    },
    {
      "cell_type": "code",
      "metadata": {
        "id": "wsURR7Dvp-gC",
        "colab_type": "code",
        "colab": {
          "base_uri": "https://localhost:8080/",
          "height": 574
        },
        "outputId": "5f737455-bf42-4141-ac5d-7e964efe9f89"
      },
      "source": [
        "normal_errors_assumption(boston_model, boston.data, boston.target)\n"
      ],
      "execution_count": 29,
      "outputs": [
        {
          "output_type": "stream",
          "text": [
            "Assumption 2: The error terms are normally distributed \n",
            "\n",
            "Using the Anderson-Darling test for normal distribution\n",
            "p-value from the test - below 0.05 generally means non-normal: 8.311128328210816e-25\n",
            "Residuals are not normally distributed\n"
          ],
          "name": "stdout"
        },
        {
          "output_type": "display_data",
          "data": {
            "image/png": "[encoded data removed]",
            "text/plain": [
              "<Figure size 864x432 with 1 Axes>"
            ]
          },
          "metadata": {
            "tags": [],
            "needs_background": "light"
          }
        },
        {
          "output_type": "stream",
          "text": [
            "\n",
            "Assumption not satisfied\n",
            "\n",
            "Confidence intervals will likely be affected\n",
            "Try performing nonlinear transformations on variables\n"
          ],
          "name": "stdout"
        }
      ]
    },
    {
      "cell_type": "markdown",
      "metadata": {
        "id": "jn7UVG6Tuzah",
        "colab_type": "text"
      },
      "source": [
        "This isn’t ideal, and we can see that our model is biasing towards under-estimating."
      ]
    },
    {
      "cell_type": "markdown",
      "metadata": {
        "id": "TGOWJf-4u3TV",
        "colab_type": "text"
      },
      "source": [
        "III) No Multicollinearity among Predictors"
      ]
    },
    {
      "cell_type": "code",
      "metadata": {
        "id": "a-cRaX4HplmK",
        "colab_type": "code",
        "colab": {}
      },
      "source": [
        "def multicollinearity_assumption(model, features, label, feature_names=None):\n",
        "    \"\"\"\n",
        "    Multicollinearity: Assumes that predictors are not correlated with each other. If there is\n",
        "                       correlation among the predictors, then either remove prepdictors with high\n",
        "                       Variance Inflation Factor (VIF) values or perform dimensionality reduction\n",
        "                           \n",
        "                       This assumption being violated causes issues with interpretability of the \n",
        "                       coefficients and the standard errors of the coefficients.\n",
        "    \"\"\"\n",
        "    from statsmodels.stats.outliers_influence import variance_inflation_factor\n",
        "    print('Assumption 3: Little to no multicollinearity among predictors')\n",
        "        \n",
        "    # Plotting the heatmap\n",
        "    plt.figure(figsize = (10,8))\n",
        "    sns.heatmap(pd.DataFrame(features, columns=feature_names).corr(), annot=True)\n",
        "    plt.title('Correlation of Variables')\n",
        "    plt.show()\n",
        "        \n",
        "    print('Variance Inflation Factors (VIF)')\n",
        "    print('> 10: An indication that multicollinearity may be present')\n",
        "    print('> 100: Certain multicollinearity among the variables')\n",
        "    print('-------------------------------------')\n",
        "       \n",
        "    # Gathering the VIF for each variable\n",
        "    VIF = [variance_inflation_factor(features, i) for i in range(features.shape[1])]\n",
        "    for idx, vif in enumerate(VIF):\n",
        "        print('{0}: {1}'.format(feature_names[idx], vif))\n",
        "        \n",
        "    # Gathering and printing total cases of possible or definite multicollinearity\n",
        "    possible_multicollinearity = sum([1 for vif in VIF if vif > 10])\n",
        "    definite_multicollinearity = sum([1 for vif in VIF if vif > 100])\n",
        "    print()\n",
        "    print('{0} cases of possible multicollinearity'.format(possible_multicollinearity))\n",
        "    print('{0} cases of definite multicollinearity'.format(definite_multicollinearity))\n",
        "    print()\n",
        "\n",
        "    if definite_multicollinearity == 0:\n",
        "        if possible_multicollinearity == 0:\n",
        "            print('Assumption satisfied')\n",
        "        else:\n",
        "            print('Assumption possibly satisfied')\n",
        "            print()\n",
        "            print('Coefficient interpretability may be problematic')\n",
        "            print('Consider removing variables with a high Variance Inflation Factor (VIF)')\n",
        "\n",
        "    else:\n",
        "        print('Assumption not satisfied')\n",
        "        print()\n",
        "        print('Coefficient interpretability will be problematic')\n",
        "        print('Consider removing variables with a high Variance Inflation Factor (VIF)')"
      ],
      "execution_count": 0,
      "outputs": []
    },
    {
      "cell_type": "code",
      "metadata": {
        "id": "u97d9fMZvg2b",
        "colab_type": "code",
        "colab": {
          "base_uri": "https://localhost:8080/",
          "height": 890
        },
        "outputId": "0b026b4d-d75f-4c7c-a25e-aa1ba7d58943"
      },
      "source": [
        "## Starting with the linear dataset:\n",
        "\n",
        "multicollinearity_assumption(linear_model, linear_X, linear_y, linear_feature_names)\n"
      ],
      "execution_count": 32,
      "outputs": [
        {
          "output_type": "stream",
          "text": [
            "Assumption 3: Little to no multicollinearity among predictors\n"
          ],
          "name": "stdout"
        },
        {
          "output_type": "display_data",
          "data": {
            "image/png": "[encoded data removed]",
            "text/plain": [
              "<Figure size 720x576 with 2 Axes>"
            ]
          },
          "metadata": {
            "tags": [],
            "needs_background": "light"
          }
        },
        {
          "output_type": "stream",
          "text": [
            "Variance Inflation Factors (VIF)\n",
            "> 10: An indication that multicollinearity may be present\n",
            "> 100: Certain multicollinearity among the variables\n",
            "-------------------------------------\n",
            "X1: 1.0309311702971027\n",
            "X2: 1.045717680299211\n",
            "X3: 1.0418076962011933\n",
            "X4: 1.0269600632251448\n",
            "X5: 1.0199882018822788\n",
            "X6: 1.0404194675991594\n",
            "X7: 1.0670847781889186\n",
            "X8: 1.0229686036798158\n",
            "X9: 1.0292923730360835\n",
            "X10: 1.0289003332516535\n",
            "X11: 1.0520432208216244\n",
            "X12: 1.0336719449364802\n",
            "X13: 1.0140788728975827\n",
            "\n",
            "0 cases of possible multicollinearity\n",
            "0 cases of definite multicollinearity\n",
            "\n",
            "Assumption satisfied\n"
          ],
          "name": "stdout"
        }
      ]
    },
    {
      "cell_type": "code",
      "metadata": {
        "id": "io5RsnPUvhD9",
        "colab_type": "code",
        "colab": {
          "base_uri": "https://localhost:8080/",
          "height": 941
        },
        "outputId": "fed53578-4fce-4ac9-b02c-5f0314cc928f"
      },
      "source": [
        "multicollinearity_assumption(boston_model, boston.data, boston.target, boston.feature_names)\n"
      ],
      "execution_count": 33,
      "outputs": [
        {
          "output_type": "stream",
          "text": [
            "Assumption 3: Little to no multicollinearity among predictors\n"
          ],
          "name": "stdout"
        },
        {
          "output_type": "display_data",
          "data": {
            "image/png": "[encoded data removed]",
            "text/plain": [
              "<Figure size 720x576 with 2 Axes>"
            ]
          },
          "metadata": {
            "tags": [],
            "needs_background": "light"
          }
        },
        {
          "output_type": "stream",
          "text": [
            "Variance Inflation Factors (VIF)\n",
            "> 10: An indication that multicollinearity may be present\n",
            "> 100: Certain multicollinearity among the variables\n",
            "-------------------------------------\n",
            "CRIM: 2.1003728199615224\n",
            "ZN: 2.8440132669462637\n",
            "INDUS: 14.485757706539331\n",
            "CHAS: 1.1529518589418777\n",
            "NOX: 73.89494652814788\n",
            "RM: 77.94828304638538\n",
            "AGE: 21.38685048994314\n",
            "DIS: 14.699652383749175\n",
            "RAD: 15.167724857920897\n",
            "TAX: 61.227274009649456\n",
            "PTRATIO: 85.02954731061801\n",
            "B: 20.104942636229136\n",
            "LSTAT: 11.102024772203539\n",
            "\n",
            "10 cases of possible multicollinearity\n",
            "0 cases of definite multicollinearity\n",
            "\n",
            "Assumption possibly satisfied\n",
            "\n",
            "Coefficient interpretability may be problematic\n",
            "Consider removing variables with a high Variance Inflation Factor (VIF)\n"
          ],
          "name": "stdout"
        }
      ]
    },
    {
      "cell_type": "code",
      "metadata": {
        "id": "IM1CtxWnvhBe",
        "colab_type": "code",
        "colab": {}
      },
      "source": [
        ""
      ],
      "execution_count": 0,
      "outputs": []
    },
    {
      "cell_type": "markdown",
      "metadata": {
        "id": "ymT42Ig5x84u",
        "colab_type": "text"
      },
      "source": [
        "IV) No Autocorrelation of the Error Terms"
      ]
    },
    {
      "cell_type": "code",
      "metadata": {
        "id": "vBGEqg18vg-P",
        "colab_type": "code",
        "colab": {}
      },
      "source": [
        "def autocorrelation_assumption(model, features, label):\n",
        "    \"\"\"\n",
        "    Autocorrelation: Assumes that there is no autocorrelation in the residuals. If there is\n",
        "                     autocorrelation, then there is a pattern that is not explained due to\n",
        "                     the current value being dependent on the previous value.\n",
        "                     This may be resolved by adding a lag variable of either the dependent\n",
        "                     variable or some of the predictors.\n",
        "    \"\"\"\n",
        "    from statsmodels.stats.stattools import durbin_watson\n",
        "    print('Assumption 4: No Autocorrelation', '\\n')\n",
        "    \n",
        "    # Calculating residuals for the Durbin Watson-tests\n",
        "    df_results = calculate_residuals(model, features, label)\n",
        "\n",
        "    print('\\nPerforming Durbin-Watson Test')\n",
        "    print('Values of 1.5 < d < 2.5 generally show that there is no autocorrelation in the data')\n",
        "    print('0 to 2< is positive autocorrelation')\n",
        "    print('>2 to 4 is negative autocorrelation')\n",
        "    print('-------------------------------------')\n",
        "    durbinWatson = durbin_watson(df_results['Residuals'])\n",
        "    print('Durbin-Watson:', durbinWatson)\n",
        "    if durbinWatson < 1.5:\n",
        "        print('Signs of positive autocorrelation', '\\n')\n",
        "        print('Assumption not satisfied')\n",
        "    elif durbinWatson > 2.5:\n",
        "        print('Signs of negative autocorrelation', '\\n')\n",
        "        print('Assumption not satisfied')\n",
        "    else:\n",
        "        print('Little to no autocorrelation', '\\n')\n",
        "        print('Assumption satisfied')"
      ],
      "execution_count": 0,
      "outputs": []
    },
    {
      "cell_type": "code",
      "metadata": {
        "id": "swVEjasVvg6g",
        "colab_type": "code",
        "colab": {}
      },
      "source": [
        "## Testing with our ideal dataset:"
      ],
      "execution_count": 0,
      "outputs": []
    },
    {
      "cell_type": "code",
      "metadata": {
        "id": "Uex_Ea4IplrF",
        "colab_type": "code",
        "colab": {
          "base_uri": "https://localhost:8080/",
          "height": 221
        },
        "outputId": "0f04b7ac-52fb-4928-ec79-8250c94de1f9"
      },
      "source": [
        "autocorrelation_assumption(linear_model, linear_X, linear_y)\n"
      ],
      "execution_count": 37,
      "outputs": [
        {
          "output_type": "stream",
          "text": [
            "Assumption 4: No Autocorrelation \n",
            "\n",
            "\n",
            "Performing Durbin-Watson Test\n",
            "Values of 1.5 < d < 2.5 generally show that there is no autocorrelation in the data\n",
            "0 to 2< is positive autocorrelation\n",
            ">2 to 4 is negative autocorrelation\n",
            "-------------------------------------\n",
            "Durbin-Watson: 2.003450513845911\n",
            "Little to no autocorrelation \n",
            "\n",
            "Assumption satisfied\n"
          ],
          "name": "stdout"
        }
      ]
    },
    {
      "cell_type": "code",
      "metadata": {
        "id": "CUj03K_bpl24",
        "colab_type": "code",
        "colab": {}
      },
      "source": [
        ""
      ],
      "execution_count": 0,
      "outputs": []
    },
    {
      "cell_type": "code",
      "metadata": {
        "id": "XsKDchTNyiRZ",
        "colab_type": "code",
        "colab": {
          "base_uri": "https://localhost:8080/",
          "height": 221
        },
        "outputId": "914042e1-1f9b-4cff-c473-3eb807cddf3a"
      },
      "source": [
        "autocorrelation_assumption(boston_model, boston.data, boston.target)"
      ],
      "execution_count": 38,
      "outputs": [
        {
          "output_type": "stream",
          "text": [
            "Assumption 4: No Autocorrelation \n",
            "\n",
            "\n",
            "Performing Durbin-Watson Test\n",
            "Values of 1.5 < d < 2.5 generally show that there is no autocorrelation in the data\n",
            "0 to 2< is positive autocorrelation\n",
            ">2 to 4 is negative autocorrelation\n",
            "-------------------------------------\n",
            "Durbin-Watson: 1.0715916506006853\n",
            "Signs of positive autocorrelation \n",
            "\n",
            "Assumption not satisfied\n"
          ],
          "name": "stdout"
        }
      ]
    },
    {
      "cell_type": "code",
      "metadata": {
        "id": "0PfDDJu6yiOW",
        "colab_type": "code",
        "colab": {}
      },
      "source": [
        ""
      ],
      "execution_count": 0,
      "outputs": []
    },
    {
      "cell_type": "code",
      "metadata": {
        "id": "jTs25iC6ysIg",
        "colab_type": "code",
        "colab": {}
      },
      "source": [
        ""
      ],
      "execution_count": 0,
      "outputs": []
    },
    {
      "cell_type": "markdown",
      "metadata": {
        "id": "PhONfe62zHOm",
        "colab_type": "text"
      },
      "source": [
        "5.Homoscadecity"
      ]
    },
    {
      "cell_type": "code",
      "metadata": {
        "id": "Dq7HWshFysE2",
        "colab_type": "code",
        "colab": {}
      },
      "source": [
        "def homoscedasticity_assumption(model, features, label):\n",
        "    \"\"\"\n",
        "    Homoscedasticity: Assumes that the errors exhibit constant variance\n",
        "    \"\"\"\n",
        "    print('Assumption 5: Homoscedasticity of Error Terms', '\\n')\n",
        "    \n",
        "    print('Residuals should have relative constant variance')\n",
        "        \n",
        "    # Calculating residuals for the plot\n",
        "    df_results = calculate_residuals(model, features, label)\n",
        "\n",
        "    # Plotting the residuals\n",
        "    plt.subplots(figsize=(12, 6))\n",
        "    ax = plt.subplot(111)  # To remove spines\n",
        "    plt.scatter(x=df_results.index, y=df_results.Residuals, alpha=0.5)\n",
        "    plt.plot(np.repeat(0, df_results.index.max()), color='darkorange', linestyle='--')\n",
        "    ax.spines['right'].set_visible(False)  # Removing the right spine\n",
        "    ax.spines['top'].set_visible(False)  # Removing the top spine\n",
        "    plt.title('Residuals')\n",
        "    plt.show()  "
      ],
      "execution_count": 0,
      "outputs": []
    },
    {
      "cell_type": "code",
      "metadata": {
        "id": "-oXJfsXJyiLC",
        "colab_type": "code",
        "colab": {}
      },
      "source": [
        "\n"
      ],
      "execution_count": 0,
      "outputs": []
    },
    {
      "cell_type": "markdown",
      "metadata": {
        "id": "c6IJlupGzLFd",
        "colab_type": "text"
      },
      "source": [
        "Plotting the residuals of our ideal dataset:\n"
      ]
    },
    {
      "cell_type": "code",
      "metadata": {
        "id": "Fpgo_TCKzQwv",
        "colab_type": "code",
        "colab": {
          "base_uri": "https://localhost:8080/",
          "height": 441
        },
        "outputId": "9287ed79-d069-4c02-a783-5927defefd6f"
      },
      "source": [
        "homoscedasticity_assumption(linear_model, linear_X, linear_y)\n"
      ],
      "execution_count": 40,
      "outputs": [
        {
          "output_type": "stream",
          "text": [
            "Assumption 5: Homoscedasticity of Error Terms \n",
            "\n",
            "Residuals should have relative constant variance\n"
          ],
          "name": "stdout"
        },
        {
          "output_type": "display_data",
          "data": {
            "image/png": "[encoded data removed]",
            "text/plain": [
              "<Figure size 864x432 with 1 Axes>"
            ]
          },
          "metadata": {
            "tags": [],
            "needs_background": "light"
          }
        }
      ]
    },
    {
      "cell_type": "markdown",
      "metadata": {
        "id": "35by54TAzQBd",
        "colab_type": "text"
      },
      "source": [
        ""
      ]
    },
    {
      "cell_type": "markdown",
      "metadata": {
        "id": "JC6old1mzLB5",
        "colab_type": "text"
      },
      "source": [
        ""
      ]
    },
    {
      "cell_type": "code",
      "metadata": {
        "id": "DuSNr_oryiGd",
        "colab_type": "code",
        "colab": {
          "base_uri": "https://localhost:8080/",
          "height": 441
        },
        "outputId": "4958f216-81a9-451e-d4ec-113bf6b24442"
      },
      "source": [
        "homoscedasticity_assumption(boston_model, boston.data, boston.target)\n"
      ],
      "execution_count": 42,
      "outputs": [
        {
          "output_type": "stream",
          "text": [
            "Assumption 5: Homoscedasticity of Error Terms \n",
            "\n",
            "Residuals should have relative constant variance\n"
          ],
          "name": "stdout"
        },
        {
          "output_type": "display_data",
          "data": {
            "image/png": "[encoded data removed]",
            "text/plain": [
              "<Figure size 864x432 with 1 Axes>"
            ]
          },
          "metadata": {
            "tags": [],
            "needs_background": "light"
          }
        }
      ]
    },
    {
      "cell_type": "code",
      "metadata": {
        "id": "VW0pjUMkzZ7p",
        "colab_type": "code",
        "colab": {}
      },
      "source": [
        ""
      ],
      "execution_count": 0,
      "outputs": []
    },
    {
      "cell_type": "code",
      "metadata": {
        "id": "MeSV4Vz_zaRI",
        "colab_type": "code",
        "colab": {}
      },
      "source": [
        ""
      ],
      "execution_count": 0,
      "outputs": []
    },
    {
      "cell_type": "code",
      "metadata": {
        "id": "UTKYVPE4zaNC",
        "colab_type": "code",
        "colab": {}
      },
      "source": [
        ""
      ],
      "execution_count": 0,
      "outputs": []
    },
    {
      "cell_type": "code",
      "metadata": {
        "id": "E_pCi8jQzaJa",
        "colab_type": "code",
        "colab": {}
      },
      "source": [
        ""
      ],
      "execution_count": 0,
      "outputs": []
    },
    {
      "cell_type": "code",
      "metadata": {
        "id": "iLRokUtEzaGe",
        "colab_type": "code",
        "colab": {}
      },
      "source": [
        ""
      ],
      "execution_count": 0,
      "outputs": []
    },
    {
      "cell_type": "code",
      "metadata": {
        "id": "S-Bm00mAzaBF",
        "colab_type": "code",
        "colab": {}
      },
      "source": [
        ""
      ],
      "execution_count": 0,
      "outputs": []
    },
    {
      "cell_type": "code",
      "metadata": {
        "id": "8lFAcs_spmCm",
        "colab_type": "code",
        "colab": {}
      },
      "source": [
        "def linear_regression_assumptions(features, label, feature_names=None):\n",
        "    \"\"\"\n",
        "    Tests a linear regression on the model to see if assumptions are being met\n",
        "    \"\"\"\n",
        "    from sklearn.linear_model import LinearRegression\n",
        "    \n",
        "    # Setting feature names to x1, x2, x3, etc. if they are not defined\n",
        "    if feature_names is None:\n",
        "        feature_names = ['X'+str(feature+1) for feature in range(features.shape[1])]\n",
        "    \n",
        "    print('Fitting linear regression')\n",
        "    # Multi-threading if the dataset is a size where doing so is beneficial\n",
        "    if features.shape[0] < 100000:\n",
        "        model = LinearRegression(n_jobs=-1)\n",
        "    else:\n",
        "        model = LinearRegression()\n",
        "        \n",
        "    model.fit(features, label)\n",
        "    \n",
        "    # Returning linear regression R^2 and coefficients before performing diagnostics\n",
        "    r2 = model.score(features, label)\n",
        "    print()\n",
        "    print('R^2:', r2, '\\n')\n",
        "    print('Coefficients')\n",
        "    print('-------------------------------------')\n",
        "    print('Intercept:', model.intercept_)\n",
        "    \n",
        "    for feature in range(len(model.coef_)):\n",
        "        print('{0}: {1}'.format(feature_names[feature], model.coef_[feature]))\n",
        "\n",
        "    print('\\nPerforming linear regression assumption testing')\n",
        "    \n",
        "    # Creating predictions and calculating residuals for assumption tests\n",
        "    predictions = model.predict(features)\n",
        "    df_results = pd.DataFrame({'Actual': label, 'Predicted': predictions})\n",
        "    df_results['Residuals'] = abs(df_results['Actual']) - abs(df_results['Predicted'])\n",
        "\n",
        "    \n",
        "    def linear_assumption():\n",
        "        \"\"\"\n",
        "        Linearity: Assumes there is a linear relationship between the predictors and\n",
        "                   the response variable. If not, either a polynomial term or another\n",
        "                   algorithm should be used.\n",
        "        \"\"\"\n",
        "        print('\\n=======================================================================================')\n",
        "        print('Assumption 1: Linear Relationship between the Target and the Features')\n",
        "        \n",
        "        print('Checking with a scatter plot of actual vs. predicted. Predictions should follow the diagonal line.')\n",
        "        \n",
        "        # Plotting the actual vs predicted values\n",
        "        sns.lmplot(x='Actual', y='Predicted', data=df_results, fit_reg=False, size=7)\n",
        "        \n",
        "        # Plotting the diagonal line\n",
        "        line_coords = np.arange(df_results.min().min(), df_results.max().max())\n",
        "        plt.plot(line_coords, line_coords,  # X and y points\n",
        "                 color='darkorange', linestyle='--')\n",
        "        plt.title('Actual vs. Predicted')\n",
        "        plt.show()\n",
        "        print('If non-linearity is apparent, consider adding a polynomial term')\n",
        "        \n",
        "        \n",
        "    def normal_errors_assumption(p_value_thresh=0.05):\n",
        "        \"\"\"\n",
        "        Normality: Assumes that the error terms are normally distributed. If they are not,\n",
        "        nonlinear transformations of variables may solve this.\n",
        "               \n",
        "        This assumption being violated primarily causes issues with the confidence intervals\n",
        "        \"\"\"\n",
        "        from statsmodels.stats.diagnostic import normal_ad\n",
        "        print('\\n=======================================================================================')\n",
        "        print('Assumption 2: The error terms are normally distributed')\n",
        "        print()\n",
        "    \n",
        "        print('Using the Anderson-Darling test for normal distribution')\n",
        "\n",
        "        # Performing the test on the residuals\n",
        "        p_value = normal_ad(df_results['Residuals'])[1]\n",
        "        print('p-value from the test - below 0.05 generally means non-normal:', p_value)\n",
        "    \n",
        "        # Reporting the normality of the residuals\n",
        "        if p_value < p_value_thresh:\n",
        "            print('Residuals are not normally distributed')\n",
        "        else:\n",
        "            print('Residuals are normally distributed')\n",
        "    \n",
        "        # Plotting the residuals distribution\n",
        "        plt.subplots(figsize=(12, 6))\n",
        "        plt.title('Distribution of Residuals')\n",
        "        sns.distplot(df_results['Residuals'])\n",
        "        plt.show()\n",
        "    \n",
        "        print()\n",
        "        if p_value > p_value_thresh:\n",
        "            print('Assumption satisfied')\n",
        "        else:\n",
        "            print('Assumption not satisfied')\n",
        "            print()\n",
        "            print('Confidence intervals will likely be affected')\n",
        "            print('Try performing nonlinear transformations on variables')\n",
        "        \n",
        "        \n",
        "    def multicollinearity_assumption():\n",
        "        \"\"\"\n",
        "        Multicollinearity: Assumes that predictors are not correlated with each other. If there is\n",
        "                           correlation among the predictors, then either remove prepdictors with high\n",
        "                           Variance Inflation Factor (VIF) values or perform dimensionality reduction\n",
        "                           \n",
        "                           This assumption being violated causes issues with interpretability of the \n",
        "                           coefficients and the standard errors of the coefficients.\n",
        "        \"\"\"\n",
        "        from statsmodels.stats.outliers_influence import variance_inflation_factor\n",
        "        print('\\n=======================================================================================')\n",
        "        print('Assumption 3: Little to no multicollinearity among predictors')\n",
        "        \n",
        "        # Plotting the heatmap\n",
        "        plt.figure(figsize = (10,8))\n",
        "        sns.heatmap(pd.DataFrame(features, columns=feature_names).corr(), annot=True)\n",
        "        plt.title('Correlation of Variables')\n",
        "        plt.show()\n",
        "        \n",
        "        print('Variance Inflation Factors (VIF)')\n",
        "        print('> 10: An indication that multicollinearity may be present')\n",
        "        print('> 100: Certain multicollinearity among the variables')\n",
        "        print('-------------------------------------')\n",
        "       \n",
        "        # Gathering the VIF for each variable\n",
        "        VIF = [variance_inflation_factor(features, i) for i in range(features.shape[1])]\n",
        "        for idx, vif in enumerate(VIF):\n",
        "            print('{0}: {1}'.format(feature_names[idx], vif))\n",
        "        \n",
        "        # Gathering and printing total cases of possible or definite multicollinearity\n",
        "        possible_multicollinearity = sum([1 for vif in VIF if vif > 10])\n",
        "        definite_multicollinearity = sum([1 for vif in VIF if vif > 100])\n",
        "        print()\n",
        "        print('{0} cases of possible multicollinearity'.format(possible_multicollinearity))\n",
        "        print('{0} cases of definite multicollinearity'.format(definite_multicollinearity))\n",
        "        print()\n",
        "\n",
        "        if definite_multicollinearity == 0:\n",
        "            if possible_multicollinearity == 0:\n",
        "                print('Assumption satisfied')\n",
        "            else:\n",
        "                print('Assumption possibly satisfied')\n",
        "                print()\n",
        "                print('Coefficient interpretability may be problematic')\n",
        "                print('Consider removing variables with a high Variance Inflation Factor (VIF)')\n",
        "        else:\n",
        "            print('Assumption not satisfied')\n",
        "            print()\n",
        "            print('Coefficient interpretability will be problematic')\n",
        "            print('Consider removing variables with a high Variance Inflation Factor (VIF)')\n",
        "        \n",
        "        \n",
        "    def autocorrelation_assumption():\n",
        "        \"\"\"\n",
        "        Autocorrelation: Assumes that there is no autocorrelation in the residuals. If there is\n",
        "                         autocorrelation, then there is a pattern that is not explained due to\n",
        "                         the current value being dependent on the previous value.\n",
        "                         This may be resolved by adding a lag variable of either the dependent\n",
        "                         variable or some of the predictors.\n",
        "        \"\"\"\n",
        "        from statsmodels.stats.stattools import durbin_watson\n",
        "        print('\\n=======================================================================================')\n",
        "        print('Assumption 4: No Autocorrelation')\n",
        "        print('\\nPerforming Durbin-Watson Test')\n",
        "        print('Values of 1.5 < d < 2.5 generally show that there is no autocorrelation in the data')\n",
        "        print('0 to 2< is positive autocorrelation')\n",
        "        print('>2 to 4 is negative autocorrelation')\n",
        "        print('-------------------------------------')\n",
        "        durbinWatson = durbin_watson(df_results['Residuals'])\n",
        "        print('Durbin-Watson:', durbinWatson)\n",
        "        if durbinWatson < 1.5:\n",
        "            print('Signs of positive autocorrelation', '\\n')\n",
        "            print('Assumption not satisfied', '\\n')\n",
        "            print('Consider adding lag variables')\n",
        "        elif durbinWatson > 2.5:\n",
        "            print('Signs of negative autocorrelation', '\\n')\n",
        "            print('Assumption not satisfied', '\\n')\n",
        "            print('Consider adding lag variables')\n",
        "        else:\n",
        "            print('Little to no autocorrelation', '\\n')\n",
        "            print('Assumption satisfied')\n",
        "\n",
        "            \n",
        "    def homoscedasticity_assumption():\n",
        "        \"\"\"\n",
        "        Homoscedasticity: Assumes that the errors exhibit constant variance\n",
        "        \"\"\"\n",
        "        print('\\n=======================================================================================')\n",
        "        print('Assumption 5: Homoscedasticity of Error Terms')\n",
        "        print('Residuals should have relative constant variance')\n",
        "        \n",
        "        # Plotting the residuals\n",
        "        plt.subplots(figsize=(12, 6))\n",
        "        ax = plt.subplot(111)  # To remove spines\n",
        "        plt.scatter(x=df_results.index, y=df_results.Residuals, alpha=0.5)\n",
        "        plt.plot(np.repeat(0, df_results.index.max()), color='darkorange', linestyle='--')\n",
        "        ax.spines['right'].set_visible(False)  # Removing the right spine\n",
        "        ax.spines['top'].set_visible(False)  # Removing the top spine\n",
        "        plt.title('Residuals')\n",
        "        plt.show() \n",
        "        print('If heteroscedasticity is apparent, confidence intervals and predictions will be affected')\n",
        "        \n",
        "        \n",
        "    linear_assumption()\n",
        "    normal_errors_assumption()\n",
        "    multicollinearity_assumption()\n",
        "    autocorrelation_assumption()\n",
        "    homoscedasticity_assumption()"
      ],
      "execution_count": 0,
      "outputs": []
    },
    {
      "cell_type": "code",
      "metadata": {
        "id": "ZaXIJA5Tply1",
        "colab_type": "code",
        "colab": {}
      },
      "source": [
        ""
      ],
      "execution_count": 0,
      "outputs": []
    },
    {
      "cell_type": "code",
      "metadata": {
        "id": "4ie27GlXplv4",
        "colab_type": "code",
        "colab": {}
      },
      "source": [
        ""
      ],
      "execution_count": 0,
      "outputs": []
    },
    {
      "cell_type": "code",
      "metadata": {
        "id": "pqy6lUX8xiUD",
        "colab_type": "code",
        "colab": {}
      },
      "source": [
        ""
      ],
      "execution_count": 0,
      "outputs": []
    }
  ]
}